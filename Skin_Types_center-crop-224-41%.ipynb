{
  "nbformat": 4,
  "nbformat_minor": 0,
  "metadata": {
    "colab": {
      "name": "Skin-Types-Ext-RAM.ipynb",
      "provenance": [],
      "collapsed_sections": [],
      "machine_shape": "hm",
      "include_colab_link": true
    },
    "kernelspec": {
      "display_name": "Python 3",
      "name": "python3"
    },
    "widgets": {
      "application/vnd.jupyter.widget-state+json": {
        "d9a943c5603b49c78b0e42980c8a4f27": {
          "model_module": "@jupyter-widgets/controls",
          "model_name": "HBoxModel",
          "state": {
            "_view_name": "HBoxView",
            "_dom_classes": [],
            "_model_name": "HBoxModel",
            "_view_module": "@jupyter-widgets/controls",
            "_model_module_version": "1.5.0",
            "_view_count": null,
            "_view_module_version": "1.5.0",
            "box_style": "",
            "layout": "IPY_MODEL_19f7dd161f434c88ad8860361ae45b76",
            "_model_module": "@jupyter-widgets/controls",
            "children": [
              "IPY_MODEL_7057d0f5168048f494b96591f290dd96",
              "IPY_MODEL_5202d832eb8c48b584c0e50ef4150a4b"
            ]
          }
        },
        "19f7dd161f434c88ad8860361ae45b76": {
          "model_module": "@jupyter-widgets/base",
          "model_name": "LayoutModel",
          "state": {
            "_view_name": "LayoutView",
            "grid_template_rows": null,
            "right": null,
            "justify_content": null,
            "_view_module": "@jupyter-widgets/base",
            "overflow": null,
            "_model_module_version": "1.2.0",
            "_view_count": null,
            "flex_flow": null,
            "width": null,
            "min_width": null,
            "border": null,
            "align_items": null,
            "bottom": null,
            "_model_module": "@jupyter-widgets/base",
            "top": null,
            "grid_column": null,
            "overflow_y": null,
            "overflow_x": null,
            "grid_auto_flow": null,
            "grid_area": null,
            "grid_template_columns": null,
            "flex": null,
            "_model_name": "LayoutModel",
            "justify_items": null,
            "grid_row": null,
            "max_height": null,
            "align_content": null,
            "visibility": null,
            "align_self": null,
            "height": null,
            "min_height": null,
            "padding": null,
            "grid_auto_rows": null,
            "grid_gap": null,
            "max_width": null,
            "order": null,
            "_view_module_version": "1.2.0",
            "grid_template_areas": null,
            "object_position": null,
            "object_fit": null,
            "grid_auto_columns": null,
            "margin": null,
            "display": null,
            "left": null
          }
        },
        "7057d0f5168048f494b96591f290dd96": {
          "model_module": "@jupyter-widgets/controls",
          "model_name": "FloatProgressModel",
          "state": {
            "_view_name": "ProgressView",
            "style": "IPY_MODEL_a6041dab71c34e109c0e41e108de9f12",
            "_dom_classes": [],
            "description": "100%",
            "_model_name": "FloatProgressModel",
            "bar_style": "success",
            "max": 46827520,
            "_view_module": "@jupyter-widgets/controls",
            "_model_module_version": "1.5.0",
            "value": 46827520,
            "_view_count": null,
            "_view_module_version": "1.5.0",
            "orientation": "horizontal",
            "min": 0,
            "description_tooltip": null,
            "_model_module": "@jupyter-widgets/controls",
            "layout": "IPY_MODEL_1f7f06336b694195b379239eb9f2c94a"
          }
        },
        "5202d832eb8c48b584c0e50ef4150a4b": {
          "model_module": "@jupyter-widgets/controls",
          "model_name": "HTMLModel",
          "state": {
            "_view_name": "HTMLView",
            "style": "IPY_MODEL_8edd4cf0d0d64ce69fe5f337712407ad",
            "_dom_classes": [],
            "description": "",
            "_model_name": "HTMLModel",
            "placeholder": "​",
            "_view_module": "@jupyter-widgets/controls",
            "_model_module_version": "1.5.0",
            "value": " 44.7M/44.7M [5:45:24&lt;00:00, 2.26kB/s]",
            "_view_count": null,
            "_view_module_version": "1.5.0",
            "description_tooltip": null,
            "_model_module": "@jupyter-widgets/controls",
            "layout": "IPY_MODEL_3b842de1a09e43938b405d985c6421df"
          }
        },
        "a6041dab71c34e109c0e41e108de9f12": {
          "model_module": "@jupyter-widgets/controls",
          "model_name": "ProgressStyleModel",
          "state": {
            "_view_name": "StyleView",
            "_model_name": "ProgressStyleModel",
            "description_width": "initial",
            "_view_module": "@jupyter-widgets/base",
            "_model_module_version": "1.5.0",
            "_view_count": null,
            "_view_module_version": "1.2.0",
            "bar_color": null,
            "_model_module": "@jupyter-widgets/controls"
          }
        },
        "1f7f06336b694195b379239eb9f2c94a": {
          "model_module": "@jupyter-widgets/base",
          "model_name": "LayoutModel",
          "state": {
            "_view_name": "LayoutView",
            "grid_template_rows": null,
            "right": null,
            "justify_content": null,
            "_view_module": "@jupyter-widgets/base",
            "overflow": null,
            "_model_module_version": "1.2.0",
            "_view_count": null,
            "flex_flow": null,
            "width": null,
            "min_width": null,
            "border": null,
            "align_items": null,
            "bottom": null,
            "_model_module": "@jupyter-widgets/base",
            "top": null,
            "grid_column": null,
            "overflow_y": null,
            "overflow_x": null,
            "grid_auto_flow": null,
            "grid_area": null,
            "grid_template_columns": null,
            "flex": null,
            "_model_name": "LayoutModel",
            "justify_items": null,
            "grid_row": null,
            "max_height": null,
            "align_content": null,
            "visibility": null,
            "align_self": null,
            "height": null,
            "min_height": null,
            "padding": null,
            "grid_auto_rows": null,
            "grid_gap": null,
            "max_width": null,
            "order": null,
            "_view_module_version": "1.2.0",
            "grid_template_areas": null,
            "object_position": null,
            "object_fit": null,
            "grid_auto_columns": null,
            "margin": null,
            "display": null,
            "left": null
          }
        },
        "8edd4cf0d0d64ce69fe5f337712407ad": {
          "model_module": "@jupyter-widgets/controls",
          "model_name": "DescriptionStyleModel",
          "state": {
            "_view_name": "StyleView",
            "_model_name": "DescriptionStyleModel",
            "description_width": "",
            "_view_module": "@jupyter-widgets/base",
            "_model_module_version": "1.5.0",
            "_view_count": null,
            "_view_module_version": "1.2.0",
            "_model_module": "@jupyter-widgets/controls"
          }
        },
        "3b842de1a09e43938b405d985c6421df": {
          "model_module": "@jupyter-widgets/base",
          "model_name": "LayoutModel",
          "state": {
            "_view_name": "LayoutView",
            "grid_template_rows": null,
            "right": null,
            "justify_content": null,
            "_view_module": "@jupyter-widgets/base",
            "overflow": null,
            "_model_module_version": "1.2.0",
            "_view_count": null,
            "flex_flow": null,
            "width": null,
            "min_width": null,
            "border": null,
            "align_items": null,
            "bottom": null,
            "_model_module": "@jupyter-widgets/base",
            "top": null,
            "grid_column": null,
            "overflow_y": null,
            "overflow_x": null,
            "grid_auto_flow": null,
            "grid_area": null,
            "grid_template_columns": null,
            "flex": null,
            "_model_name": "LayoutModel",
            "justify_items": null,
            "grid_row": null,
            "max_height": null,
            "align_content": null,
            "visibility": null,
            "align_self": null,
            "height": null,
            "min_height": null,
            "padding": null,
            "grid_auto_rows": null,
            "grid_gap": null,
            "max_width": null,
            "order": null,
            "_view_module_version": "1.2.0",
            "grid_template_areas": null,
            "object_position": null,
            "object_fit": null,
            "grid_auto_columns": null,
            "margin": null,
            "display": null,
            "left": null
          }
        }
      }
    }
  },
  "cells": [
    {
      "cell_type": "markdown",
      "metadata": {
        "id": "view-in-github",
        "colab_type": "text"
      },
      "source": [
        "<a href=\"https://colab.research.google.com/github/milanpavikevik/Skin-Lesion-Classification/blob/main/Skin_Types_center-crop-224-41%25.ipynb\" target=\"_parent\"><img src=\"https://colab.research.google.com/assets/colab-badge.svg\" alt=\"Open In Colab\"/></a>"
      ]
    },
    {
      "cell_type": "code",
      "metadata": {
        "colab": {
          "base_uri": "https://localhost:8080/"
        },
        "id": "eL2tzXOzHS9b",
        "outputId": "bb8890ac-a7e2-429e-8346-c5d3f7e1dacf"
      },
      "source": [
        "from google.colab import drive\r\n",
        "drive.mount('/content/drive')"
      ],
      "execution_count": 1,
      "outputs": [
        {
          "output_type": "stream",
          "text": [
            "Mounted at /content/drive\n"
          ],
          "name": "stdout"
        }
      ]
    },
    {
      "cell_type": "code",
      "metadata": {
        "colab": {
          "base_uri": "https://localhost:8080/"
        },
        "id": "IhTMJR9ZHTGF",
        "outputId": "13c13bdc-0283-46fd-ff09-6c2bcf39c2ec"
      },
      "source": [
        "import warnings                        # To ignore any warnings\r\n",
        "warnings.filterwarnings(\"ignore\")\r\n",
        "%matplotlib inline\r\n",
        "%pylab inline\r\n",
        "import os\r\n",
        "import glob\r\n",
        "import numpy as np\r\n",
        "from tqdm import tqdm\r\n",
        "import itertools\r\n",
        "import cv2\r\n",
        "import matplotlib.pyplot as plt\r\n",
        "import pandas as pd\r\n",
        "\r\n",
        "# torch\r\n",
        "import torch\r\n",
        "import torch.nn as nn\r\n",
        "import torch.nn.functional as F\r\n",
        "import torchvision\r\n",
        "import torchvision.transforms as transforms\r\n",
        "import matplotlib.pyplot as plt\r\n",
        "\r\n",
        "import torch.optim as optim\r\n",
        "from torch.optim import lr_scheduler\r\n",
        "from torchvision import datasets, models, transforms\r\n",
        "import time\r\n",
        "import copy\r\n",
        "\r\n",
        "# Scikit learn\r\n",
        "from sklearn.model_selection import train_test_split\r\n",
        "from sklearn.metrics import classification_report, accuracy_score, confusion_matrix\r\n",
        "from sklearn.preprocessing import LabelEncoder\r\n",
        "from sklearn.utils import shuffle\r\n",
        "from sklearn.utils import class_weight\r\n",
        "\r\n",
        "import warnings\r\n",
        "warnings.filterwarnings('ignore', category=FutureWarning)"
      ],
      "execution_count": 2,
      "outputs": [
        {
          "output_type": "stream",
          "text": [
            "Populating the interactive namespace from numpy and matplotlib\n"
          ],
          "name": "stdout"
        }
      ]
    },
    {
      "cell_type": "markdown",
      "metadata": {
        "id": "5wEiZ7VZQiVD"
      },
      "source": [
        "testiraj golemina na slika 768x768 , 512x512 , 384x384 , 256x256 , 192x192"
      ]
    },
    {
      "cell_type": "code",
      "metadata": {
        "colab": {
          "base_uri": "https://localhost:8080/"
        },
        "id": "IUMaUf0lHTJL",
        "outputId": "f922b996-5b61-4412-9166-8a0d19f7a2ea"
      },
      "source": [
        "!mkdir '/content/experiment_dataset'\r\n",
        "!mkdir '/content/experiment_dataset/train'\r\n",
        "!mkdir '/content/experiment_dataset/val'\r\n",
        "\r\n",
        "INPUT_DIR = '/content/drive/MyDrive/Skin-Lesion/**'\r\n",
        "\r\n",
        "for folder in ['AK','BCC','BKL','DF','MEL','NV','SCC','VASC']:\r\n",
        "  for f in ['train','val']:\r\n",
        "    !mkdir '/content/experiment_dataset/'{f}'/'{folder}\r\n",
        "from shutil import copyfile\r\n",
        "\r\n",
        "\r\n",
        "for filename in glob.iglob(INPUT_DIR):\r\n",
        "    kolkuPoKlasa=0\r\n",
        "    print(filename)\r\n",
        "    exc = 'train'\r\n",
        "    isItShort=0\r\n",
        "\r\n",
        "    list = os.listdir(filename) # dir is your directory path\r\n",
        "    number_files = len(list)\r\n",
        "    \r\n",
        "    if (number_files<1100):\r\n",
        "      isItShort=1\r\n",
        "    print('dali e ? : ',number_files,' ',isItShort)\r\n",
        "\r\n",
        "    for f in glob.iglob(filename+'/**'):\r\n",
        "      \r\n",
        "      if (kolkuPoKlasa >900):\r\n",
        "        exc='val'\r\n",
        "\r\n",
        "      if (kolkuPoKlasa > 1100):\r\n",
        "        kolkuPoKlasa=0\r\n",
        "        break\r\n",
        "\r\n",
        "      if (isItShort==1):\r\n",
        "        for i in range(0,4):\r\n",
        "          kolkuPoKlasa+=1\r\n",
        "      \r\n",
        "          image= cv2.imread( f, cv2.COLOR_BGR2RGB)\r\n",
        "          if (i!=0):\r\n",
        "            image = cv2.rotate(image, cv2.cv2.ROTATE_90_CLOCKWISE) \r\n",
        "          strign = 'experiment_dataset/'+exc\r\n",
        "          dest = f.replace('drive/MyDrive/Skin-Lesion', strign)\r\n",
        "          dest = dest.split('\\.')[0] + str(i) + '.jpg'\r\n",
        "          copyfile(f, dest)\r\n",
        "      else:\r\n",
        "        kolkuPoKlasa+=1\r\n",
        "        image= cv2.imread( f, cv2.COLOR_BGR2RGB)\r\n",
        "         \r\n",
        "        strign = 'experiment_dataset/'+exc\r\n",
        "        dest = f.replace('drive/MyDrive/Skin-Lesion', strign)\r\n",
        "        copyfile(f, dest)  \r\n",
        "      \r\n",
        "      #print(f)\r\n",
        "      #print(dest)\r\n",
        "     \r\n",
        "            \r\n"
      ],
      "execution_count": 3,
      "outputs": [
        {
          "output_type": "stream",
          "text": [
            "/content/drive/MyDrive/Skin-Lesion/VASC\n",
            "dali e ? :  253   1\n",
            "/content/drive/MyDrive/Skin-Lesion/SCC\n",
            "dali e ? :  628   1\n",
            "/content/drive/MyDrive/Skin-Lesion/NV\n",
            "dali e ? :  12875   0\n",
            "/content/drive/MyDrive/Skin-Lesion/AK\n",
            "dali e ? :  867   1\n",
            "/content/drive/MyDrive/Skin-Lesion/BCC\n",
            "dali e ? :  3331   0\n",
            "/content/drive/MyDrive/Skin-Lesion/BKL\n",
            "dali e ? :  2624   0\n",
            "/content/drive/MyDrive/Skin-Lesion/DF\n",
            "dali e ? :  239   1\n",
            "/content/drive/MyDrive/Skin-Lesion/MEL\n",
            "dali e ? :  4522   0\n"
          ],
          "name": "stdout"
        }
      ]
    },
    {
      "cell_type": "code",
      "metadata": {
        "colab": {
          "base_uri": "https://localhost:8080/",
          "height": 229
        },
        "id": "_SmbIOPmHTPC",
        "outputId": "eabce3b2-d216-4b60-f48f-e32302e8a1ad"
      },
      "source": [
        "import matplotlib\r\n",
        "matplotlib.rcParams['figure.figsize'] = (14, 5)\r\n",
        "matplotlib.rcParams['font.size'] = 12\r\n",
        "from matplotlib import pyplot as plt\r\n",
        "\r\n",
        "num_classes = 8\r\n",
        "\r\n",
        "xlass=[]\r\n",
        "\r\n",
        "for row in dataset:\r\n",
        "  xlass.append(row[1])\r\n",
        "print(len(xlass))\r\n",
        "xlass = pd.DataFrame(xlass)\r\n",
        "\r\n",
        "class_counts = xlass.value_counts()\r\n",
        "\r\n",
        "cmap = plt.cm.get_cmap(plt.cm.Set3, 10)\r\n",
        "colors = [cmap(i) for i in range(num_classes)]\r\n",
        "class_ticks = ['NV','MEL','BKL','BCC','AK','SCC','VASC','DF']\r\n",
        "plt.barh(range(num_classes)[::-1], class_counts, tick_label=class_ticks,\r\n",
        "         color=colors)\r\n",
        "plt.title('Class distribution of dataset')\r\n",
        "plt.show()\r\n",
        "\r\n",
        "xlass=[]\r\n"
      ],
      "execution_count": null,
      "outputs": [
        {
          "output_type": "error",
          "ename": "NameError",
          "evalue": "ignored",
          "traceback": [
            "\u001b[0;31m---------------------------------------------------------------------------\u001b[0m",
            "\u001b[0;31mNameError\u001b[0m                                 Traceback (most recent call last)",
            "\u001b[0;32m<ipython-input-3-0ad0423a8824>\u001b[0m in \u001b[0;36m<module>\u001b[0;34m()\u001b[0m\n\u001b[1;32m      8\u001b[0m \u001b[0mxlass\u001b[0m\u001b[0;34m=\u001b[0m\u001b[0;34m[\u001b[0m\u001b[0;34m]\u001b[0m\u001b[0;34m\u001b[0m\u001b[0;34m\u001b[0m\u001b[0m\n\u001b[1;32m      9\u001b[0m \u001b[0;34m\u001b[0m\u001b[0m\n\u001b[0;32m---> 10\u001b[0;31m \u001b[0;32mfor\u001b[0m \u001b[0mrow\u001b[0m \u001b[0;32min\u001b[0m \u001b[0mdataset\u001b[0m\u001b[0;34m:\u001b[0m\u001b[0;34m\u001b[0m\u001b[0;34m\u001b[0m\u001b[0m\n\u001b[0m\u001b[1;32m     11\u001b[0m   \u001b[0mxlass\u001b[0m\u001b[0;34m.\u001b[0m\u001b[0mappend\u001b[0m\u001b[0;34m(\u001b[0m\u001b[0mrow\u001b[0m\u001b[0;34m[\u001b[0m\u001b[0;36m1\u001b[0m\u001b[0;34m]\u001b[0m\u001b[0;34m)\u001b[0m\u001b[0;34m\u001b[0m\u001b[0;34m\u001b[0m\u001b[0m\n\u001b[1;32m     12\u001b[0m \u001b[0mprint\u001b[0m\u001b[0;34m(\u001b[0m\u001b[0mlen\u001b[0m\u001b[0;34m(\u001b[0m\u001b[0mxlass\u001b[0m\u001b[0;34m)\u001b[0m\u001b[0;34m)\u001b[0m\u001b[0;34m\u001b[0m\u001b[0;34m\u001b[0m\u001b[0m\n",
            "\u001b[0;31mNameError\u001b[0m: name 'dataset' is not defined"
          ]
        }
      ]
    },
    {
      "cell_type": "code",
      "metadata": {
        "colab": {
          "base_uri": "https://localhost:8080/",
          "height": 1000,
          "referenced_widgets": [
            "d9a943c5603b49c78b0e42980c8a4f27",
            "19f7dd161f434c88ad8860361ae45b76",
            "7057d0f5168048f494b96591f290dd96",
            "5202d832eb8c48b584c0e50ef4150a4b",
            "a6041dab71c34e109c0e41e108de9f12",
            "1f7f06336b694195b379239eb9f2c94a",
            "8edd4cf0d0d64ce69fe5f337712407ad",
            "3b842de1a09e43938b405d985c6421df"
          ]
        },
        "id": "hlUMto5nZSij",
        "outputId": "996ade7d-b566-4539-b254-c154b261f9b2"
      },
      "source": [
        "from torch.utils.data import Dataset, DataLoader\r\n",
        "from torchvision import *\r\n",
        "mean = np.array([0.5, 0.5, 0.5])\r\n",
        "std = np.array([0.25, 0.25, 0.25])\r\n",
        "\r\n",
        "data_transforms = {\r\n",
        "    'train': transforms.Compose([\r\n",
        "        transforms.CenterCrop(224),\r\n",
        "        transforms.ToTensor()\r\n",
        "    ]),\r\n",
        "    'val': transforms.Compose([\r\n",
        "        transforms.CenterCrop(224),\r\n",
        "        transforms.ToTensor()\r\n",
        "    \r\n",
        "    ]),\r\n",
        "}\r\n",
        "\r\n",
        "\r\n",
        "batch_size = 64\r\n",
        "learning_rate = 0.001\r\n",
        "\r\n",
        "data_dir = '/content/drive/MyDrive/Skin-Lesion/'\r\n",
        "\r\n",
        "\r\n",
        "\r\n",
        "train_dataset = datasets.ImageFolder(root='/content/experiment_dataset/train', transform=data_transforms['train'])\r\n",
        "test_dataset = datasets.ImageFolder(root='/content/experiment_dataset/val', transform=data_transforms['val'])\r\n",
        "\r\n",
        "train_dataloader = DataLoader(train_dataset, batch_size=batch_size, shuffle=True)\r\n",
        "test_dataloader = DataLoader(test_dataset, batch_size=batch_size, shuffle=True)\r\n",
        "\r\n",
        "\r\n",
        "\r\n",
        "\r\n",
        "if torch.cuda.is_available():\r\n",
        "  device = torch.device(\"cuda\")\r\n",
        "else:\r\n",
        "  device = torch.device(\"cpu\")\r\n",
        "\r\n",
        "print(device)\r\n",
        "def imshow(inp, title=None):\r\n",
        "    \r\n",
        "    inp = inp.cpu() if device else inp\r\n",
        "    inp = inp.numpy().transpose((1, 2, 0))\r\n",
        "    \r\n",
        "    mean = np.array([0.485, 0.456, 0.406])\r\n",
        "    std = np.array([0.229, 0.224, 0.225])\r\n",
        "    inp = std * inp + mean\r\n",
        "    inp = np.clip(inp, 0, 1)\r\n",
        "    \r\n",
        "    plt.imshow(inp)\r\n",
        "    if title is not None:\r\n",
        "        plt.title(title)\r\n",
        "    plt.pause(0.001)\r\n",
        "    \r\n",
        "images, labels = next(iter(train_dataloader)) \r\n",
        "print(\"images-size:\", images.shape)\r\n",
        "\r\n",
        "out = torchvision.utils.make_grid(images)\r\n",
        "print(\"out-size:\", out.shape)\r\n",
        "\r\n",
        "imshow(out, title=[train_dataset.classes[x] for x in labels])\r\n",
        "\r\n",
        "\r\n",
        "net = models.resnet18(pretrained=True)\r\n",
        "if (device=='cuda'):\r\n",
        "  net.to('cuda:0')\r\n",
        "\r\n",
        "\r\n",
        "criterion = nn.CrossEntropyLoss()\r\n",
        "optimizer = optim.SGD(net.parameters(), lr=0.001, momentum=0.9)\r\n",
        "\r\n",
        "def accuracy(out, labels):\r\n",
        "    _,pred = torch.max(out, dim=1)\r\n",
        "    return torch.sum(pred==labels).item()\r\n",
        "\r\n",
        "num_ftrs = net.fc.in_features\r\n",
        "net.fc = nn.Linear(num_ftrs, 128)\r\n",
        "#net.fc = net.fc.cuda() \r\n",
        "\r\n",
        "n_epochs = 20\r\n",
        "print_every = 10\r\n",
        "valid_loss_min = np.Inf\r\n",
        "val_loss = []\r\n",
        "val_acc = []\r\n",
        "train_loss = []\r\n",
        "train_acc = []\r\n",
        "total_step = len(train_dataloader)\r\n",
        "for epoch in range(1, n_epochs+1):\r\n",
        "    running_loss = 0.0\r\n",
        "    correct = 0\r\n",
        "    total=0\r\n",
        "    print(f'Epoch {epoch}\\n')\r\n",
        "    for batch_idx, (data_, target_) in enumerate(train_dataloader):\r\n",
        "        data_, target_ = data_.to(device), target_.to(device)\r\n",
        "        optimizer.zero_grad()\r\n",
        "        \r\n",
        "        outputs = net(data_)\r\n",
        "        loss = criterion(outputs, target_)\r\n",
        "        loss.backward()\r\n",
        "        optimizer.step()\r\n",
        "\r\n",
        "        running_loss += loss.item()\r\n",
        "        _,pred = torch.max(outputs, dim=1)\r\n",
        "        correct += torch.sum(pred==target_).item()\r\n",
        "        total += target_.size(0)\r\n",
        "        if (batch_idx) % 20 == 0:\r\n",
        "            print ('Epoch [{}/{}], Step [{}/{}], Loss: {:.4f}' \r\n",
        "                   .format(epoch, n_epochs, batch_idx, total_step, loss.item()))\r\n",
        "    train_acc.append(100 * correct / total)\r\n",
        "    train_loss.append(running_loss/total_step)\r\n",
        "    print(f'\\ntrain-loss: {np.mean(train_loss):.4f}, train-acc: {(100 * correct/total):.4f}')\r\n",
        "    batch_loss = 0\r\n",
        "    total_t=0\r\n",
        "    correct_t=0\r\n",
        "    with torch.no_grad():\r\n",
        "        net.eval()\r\n",
        "        for data_t, target_t in (test_dataloader):\r\n",
        "            data_t, target_t = data_t.to(device), target_t.to(device)\r\n",
        "            outputs_t = net(data_t)\r\n",
        "            loss_t = criterion(outputs_t, target_t)\r\n",
        "            batch_loss += loss_t.item()\r\n",
        "            _,pred_t = torch.max(outputs_t, dim=1)\r\n",
        "            correct_t += torch.sum(pred_t==target_t).item()\r\n",
        "            total_t += target_t.size(0)\r\n",
        "        val_acc.append(100 * correct_t/total_t)\r\n",
        "        val_loss.append(batch_loss/len(test_dataloader))\r\n",
        "        network_learned = batch_loss < valid_loss_min\r\n",
        "        print(f'validation loss: {np.mean(val_loss):.4f}, validation acc: {(100 * correct_t/total_t):.4f}\\n')\r\n",
        "\r\n",
        "        \r\n",
        "        if network_learned:\r\n",
        "            valid_loss_min = batch_loss\r\n",
        "            torch.save(net.state_dict(), 'resnet.pt')\r\n",
        "            print('Improvement-Detected, save-model')\r\n",
        "    net.train()"
      ],
      "execution_count": 4,
      "outputs": [
        {
          "output_type": "stream",
          "text": [
            "cpu\n",
            "images-size: torch.Size([64, 3, 224, 224])\n",
            "out-size: torch.Size([3, 1810, 1810])\n"
          ],
          "name": "stdout"
        },
        {
          "output_type": "display_data",
          "data": {
            "image/png": "[encoded data removed]",
            "text/plain": [
              "<Figure size 432x288 with 1 Axes>"
            ]
          },
          "metadata": {
            "tags": [],
            "needs_background": "light"
          }
        },
        {
          "output_type": "stream",
          "text": [
            "Downloading: \"https://download.pytorch.org/models/resnet18-5c106cde.pth\" to /root/.cache/torch/hub/checkpoints/resnet18-5c106cde.pth\n"
          ],
          "name": "stderr"
        },
        {
          "output_type": "display_data",
          "data": {
            "application/vnd.jupyter.widget-view+json": {
              "model_id": "d9a943c5603b49c78b0e42980c8a4f27",
              "version_minor": 0,
              "version_major": 2
            },
            "text/plain": [
              "HBox(children=(FloatProgress(value=0.0, max=46827520.0), HTML(value='')))"
            ]
          },
          "metadata": {
            "tags": []
          }
        },
        {
          "output_type": "stream",
          "text": [
            "\n",
            "Epoch 1\n",
            "\n",
            "Epoch [1/20], Step [0/113], Loss: 5.0551\n",
            "Epoch [1/20], Step [20/113], Loss: 4.6787\n",
            "Epoch [1/20], Step [40/113], Loss: 4.2098\n",
            "Epoch [1/20], Step [60/113], Loss: 3.6399\n",
            "Epoch [1/20], Step [80/113], Loss: 3.2013\n",
            "Epoch [1/20], Step [100/113], Loss: 3.1749\n",
            "\n",
            "train-loss: 3.8567, train-acc: 26.4681\n",
            "validation loss: 4.1822, validation acc: 29.3382\n",
            "\n",
            "Improvement-Detected, save-model\n",
            "Epoch 2\n",
            "\n",
            "Epoch [2/20], Step [0/113], Loss: 2.4560\n",
            "Epoch [2/20], Step [20/113], Loss: 2.4976\n",
            "Epoch [2/20], Step [40/113], Loss: 2.3410\n",
            "Epoch [2/20], Step [60/113], Loss: 2.1486\n",
            "Epoch [2/20], Step [80/113], Loss: 1.8827\n",
            "Epoch [2/20], Step [100/113], Loss: 2.2804\n",
            "\n",
            "train-loss: 3.0482, train-acc: 56.1496\n",
            "validation loss: 4.0560, validation acc: 33.3088\n",
            "\n",
            "Improvement-Detected, save-model\n",
            "Epoch 3\n",
            "\n",
            "Epoch [3/20], Step [0/113], Loss: 1.8706\n",
            "Epoch [3/20], Step [20/113], Loss: 1.3024\n",
            "Epoch [3/20], Step [40/113], Loss: 1.6622\n",
            "Epoch [3/20], Step [60/113], Loss: 1.3216\n",
            "Epoch [3/20], Step [80/113], Loss: 1.6394\n",
            "Epoch [3/20], Step [100/113], Loss: 1.4952\n",
            "\n",
            "train-loss: 2.5907, train-acc: 63.4903\n",
            "validation loss: 3.8276, validation acc: 33.8235\n",
            "\n",
            "Improvement-Detected, save-model\n",
            "Epoch 4\n",
            "\n",
            "Epoch [4/20], Step [0/113], Loss: 1.6614\n",
            "Epoch [4/20], Step [20/113], Loss: 1.0361\n",
            "Epoch [4/20], Step [40/113], Loss: 1.3034\n",
            "Epoch [4/20], Step [60/113], Loss: 1.5182\n",
            "Epoch [4/20], Step [80/113], Loss: 1.5260\n",
            "Epoch [4/20], Step [100/113], Loss: 1.3601\n",
            "\n",
            "train-loss: 2.2851, train-acc: 69.2382\n",
            "validation loss: 3.6970, validation acc: 36.6912\n",
            "\n",
            "Improvement-Detected, save-model\n",
            "Epoch 5\n",
            "\n",
            "Epoch [5/20], Step [0/113], Loss: 1.4852\n",
            "Epoch [5/20], Step [20/113], Loss: 1.4079\n",
            "Epoch [5/20], Step [40/113], Loss: 0.8932\n",
            "Epoch [5/20], Step [60/113], Loss: 1.0994\n",
            "Epoch [5/20], Step [80/113], Loss: 1.2583\n",
            "Epoch [5/20], Step [100/113], Loss: 0.8034\n",
            "\n",
            "train-loss: 2.0538, train-acc: 74.5983\n",
            "validation loss: 3.5825, validation acc: 38.0882\n",
            "\n",
            "Improvement-Detected, save-model\n",
            "Epoch 6\n",
            "\n",
            "Epoch [6/20], Step [0/113], Loss: 0.7937\n",
            "Epoch [6/20], Step [20/113], Loss: 0.9704\n",
            "Epoch [6/20], Step [40/113], Loss: 1.0791\n",
            "Epoch [6/20], Step [60/113], Loss: 1.0745\n",
            "Epoch [6/20], Step [80/113], Loss: 1.0435\n",
            "Epoch [6/20], Step [100/113], Loss: 0.9326\n",
            "\n",
            "train-loss: 1.8648, train-acc: 79.7645\n",
            "validation loss: 3.6102, validation acc: 34.4118\n",
            "\n",
            "Epoch 7\n",
            "\n",
            "Epoch [7/20], Step [0/113], Loss: 0.8541\n",
            "Epoch [7/20], Step [20/113], Loss: 0.8928\n",
            "Epoch [7/20], Step [40/113], Loss: 0.5198\n",
            "Epoch [7/20], Step [60/113], Loss: 0.7426\n",
            "Epoch [7/20], Step [80/113], Loss: 0.6959\n",
            "Epoch [7/20], Step [100/113], Loss: 0.6614\n",
            "\n",
            "train-loss: 1.7072, train-acc: 82.9363\n",
            "validation loss: 3.5475, validation acc: 41.3235\n",
            "\n",
            "Epoch 8\n",
            "\n",
            "Epoch [8/20], Step [0/113], Loss: 0.4909\n",
            "Epoch [8/20], Step [20/113], Loss: 0.5493\n",
            "Epoch [8/20], Step [40/113], Loss: 0.8113\n",
            "Epoch [8/20], Step [60/113], Loss: 0.4414\n",
            "Epoch [8/20], Step [80/113], Loss: 0.7626\n",
            "Epoch [8/20], Step [100/113], Loss: 0.7418\n",
            "\n",
            "train-loss: 1.5722, train-acc: 86.2188\n",
            "validation loss: 3.5058, validation acc: 38.7500\n",
            "\n",
            "Epoch 9\n",
            "\n",
            "Epoch [9/20], Step [0/113], Loss: 0.4526\n",
            "Epoch [9/20], Step [20/113], Loss: 0.3516\n",
            "Epoch [9/20], Step [40/113], Loss: 0.4878\n",
            "Epoch [9/20], Step [60/113], Loss: 0.5386\n",
            "Epoch [9/20], Step [80/113], Loss: 0.4940\n",
            "Epoch [9/20], Step [100/113], Loss: 0.4200\n",
            "\n",
            "train-loss: 1.4571, train-acc: 88.2133\n",
            "validation loss: 3.4898, validation acc: 33.3824\n",
            "\n",
            "Epoch 10\n",
            "\n",
            "Epoch [10/20], Step [0/113], Loss: 0.3405\n",
            "Epoch [10/20], Step [20/113], Loss: 0.4971\n",
            "Epoch [10/20], Step [40/113], Loss: 0.4587\n",
            "Epoch [10/20], Step [60/113], Loss: 0.3759\n",
            "Epoch [10/20], Step [80/113], Loss: 0.4044\n",
            "Epoch [10/20], Step [100/113], Loss: 0.3853\n",
            "\n",
            "train-loss: 1.3549, train-acc: 91.3573\n",
            "validation loss: 3.4487, validation acc: 38.7500\n",
            "\n",
            "Improvement-Detected, save-model\n",
            "Epoch 11\n",
            "\n",
            "Epoch [11/20], Step [0/113], Loss: 0.3181\n",
            "Epoch [11/20], Step [20/113], Loss: 0.3768\n",
            "Epoch [11/20], Step [40/113], Loss: 0.3942\n",
            "Epoch [11/20], Step [60/113], Loss: 0.5163\n",
            "Epoch [11/20], Step [80/113], Loss: 0.4743\n",
            "Epoch [11/20], Step [100/113], Loss: 0.3923\n",
            "\n",
            "train-loss: 1.2636, train-acc: 93.4349\n",
            "validation loss: 3.4297, validation acc: 39.4853\n",
            "\n",
            "Epoch 12\n",
            "\n",
            "Epoch [12/20], Step [0/113], Loss: 0.1641\n",
            "Epoch [12/20], Step [20/113], Loss: 0.5293\n",
            "Epoch [12/20], Step [40/113], Loss: 0.2554\n",
            "Epoch [12/20], Step [60/113], Loss: 0.2792\n",
            "Epoch [12/20], Step [80/113], Loss: 0.2268\n",
            "Epoch [12/20], Step [100/113], Loss: 0.2395\n",
            "\n",
            "train-loss: 1.1811, train-acc: 95.2909\n",
            "validation loss: 3.4433, validation acc: 36.4706\n",
            "\n",
            "Epoch 13\n",
            "\n",
            "Epoch [13/20], Step [0/113], Loss: 0.2561\n",
            "Epoch [13/20], Step [20/113], Loss: 0.1997\n",
            "Epoch [13/20], Step [40/113], Loss: 0.1856\n",
            "Epoch [13/20], Step [60/113], Loss: 0.1756\n",
            "Epoch [13/20], Step [80/113], Loss: 0.1502\n",
            "Epoch [13/20], Step [100/113], Loss: 0.2283\n",
            "\n",
            "train-loss: 1.1070, train-acc: 96.9529\n",
            "validation loss: 3.4467, validation acc: 38.2353\n",
            "\n",
            "Epoch 14\n",
            "\n",
            "Epoch [14/20], Step [0/113], Loss: 0.0933\n",
            "Epoch [14/20], Step [20/113], Loss: 0.1041\n",
            "Epoch [14/20], Step [40/113], Loss: 0.2182\n",
            "Epoch [14/20], Step [60/113], Loss: 0.0932\n",
            "Epoch [14/20], Step [80/113], Loss: 0.2048\n",
            "Epoch [14/20], Step [100/113], Loss: 0.1383\n",
            "\n",
            "train-loss: 1.0391, train-acc: 98.4349\n",
            "validation loss: 3.4550, validation acc: 38.8971\n",
            "\n",
            "Epoch 15\n",
            "\n",
            "Epoch [15/20], Step [0/113], Loss: 0.1243\n",
            "Epoch [15/20], Step [20/113], Loss: 0.0630\n",
            "Epoch [15/20], Step [40/113], Loss: 0.0857\n",
            "Epoch [15/20], Step [60/113], Loss: 0.0945\n",
            "Epoch [15/20], Step [80/113], Loss: 0.0925\n",
            "Epoch [15/20], Step [100/113], Loss: 0.1501\n",
            "\n",
            "train-loss: 0.9775, train-acc: 99.1828\n",
            "validation loss: 3.4478, validation acc: 39.4853\n",
            "\n",
            "Epoch 16\n",
            "\n",
            "Epoch [16/20], Step [0/113], Loss: 0.0583\n",
            "Epoch [16/20], Step [20/113], Loss: 0.0621\n",
            "Epoch [16/20], Step [40/113], Loss: 0.1126\n",
            "Epoch [16/20], Step [60/113], Loss: 0.1132\n",
            "Epoch [16/20], Step [80/113], Loss: 0.0680\n",
            "Epoch [16/20], Step [100/113], Loss: 0.0621\n",
            "\n",
            "train-loss: 0.9223, train-acc: 99.3352\n",
            "validation loss: 3.4419, validation acc: 41.7647\n",
            "\n",
            "Epoch 17\n",
            "\n",
            "Epoch [17/20], Step [0/113], Loss: 0.0504\n",
            "Epoch [17/20], Step [20/113], Loss: 0.0359\n",
            "Epoch [17/20], Step [40/113], Loss: 0.0746\n",
            "Epoch [17/20], Step [60/113], Loss: 0.0616\n",
            "Epoch [17/20], Step [80/113], Loss: 0.0543\n",
            "Epoch [17/20], Step [100/113], Loss: 0.0729\n",
            "\n",
            "train-loss: 0.8726, train-acc: 99.5568\n",
            "validation loss: 3.4485, validation acc: 39.4118\n",
            "\n",
            "Epoch 18\n",
            "\n",
            "Epoch [18/20], Step [0/113], Loss: 0.0456\n",
            "Epoch [18/20], Step [20/113], Loss: 0.0760\n",
            "Epoch [18/20], Step [40/113], Loss: 0.0383\n",
            "Epoch [18/20], Step [60/113], Loss: 0.0477\n",
            "Epoch [18/20], Step [80/113], Loss: 0.0491\n",
            "Epoch [18/20], Step [100/113], Loss: 0.0504\n",
            "\n",
            "train-loss: 0.8277, train-acc: 99.7922\n",
            "validation loss: 3.4471, validation acc: 40.8824\n",
            "\n",
            "Epoch 19\n",
            "\n",
            "Epoch [19/20], Step [0/113], Loss: 0.0512\n",
            "Epoch [19/20], Step [20/113], Loss: 0.0916\n",
            "Epoch [19/20], Step [40/113], Loss: 0.0818\n",
            "Epoch [19/20], Step [60/113], Loss: 0.0378\n",
            "Epoch [19/20], Step [80/113], Loss: 0.0656\n",
            "Epoch [19/20], Step [100/113], Loss: 0.0578\n",
            "\n",
            "train-loss: 0.7870, train-acc: 99.8338\n",
            "validation loss: 3.4486, validation acc: 41.0294\n",
            "\n",
            "Epoch 20\n",
            "\n",
            "Epoch [20/20], Step [0/113], Loss: 0.0405\n",
            "Epoch [20/20], Step [20/113], Loss: 0.0285\n",
            "Epoch [20/20], Step [40/113], Loss: 0.0368\n",
            "Epoch [20/20], Step [60/113], Loss: 0.0417\n",
            "Epoch [20/20], Step [80/113], Loss: 0.0421\n",
            "Epoch [20/20], Step [100/113], Loss: 0.0696\n",
            "\n",
            "train-loss: 0.7500, train-acc: 99.8061\n",
            "validation loss: 3.4624, validation acc: 40.5882\n",
            "\n"
          ],
          "name": "stdout"
        }
      ]
    },
    {
      "cell_type": "code",
      "metadata": {
        "id": "ZpiZWE3iZSkL",
        "colab": {
          "base_uri": "https://localhost:8080/",
          "height": 611
        },
        "outputId": "436c1d26-fcbb-4655-807d-754d115fc522"
      },
      "source": [
        "fig = plt.figure(figsize=(20,10))\r\n",
        "plt.title(\"Train-Validation Accuracy\")\r\n",
        "plt.plot(train_acc, label='train')\r\n",
        "plt.plot(val_acc, label='validation')\r\n",
        "plt.xlabel('num_epochs', fontsize=12)\r\n",
        "plt.ylabel('accuracy', fontsize=12)\r\n",
        "plt.legend(loc='best')"
      ],
      "execution_count": 5,
      "outputs": [
        {
          "output_type": "execute_result",
          "data": {
            "text/plain": [
              "<matplotlib.legend.Legend at 0x7ff5964ad310>"
            ]
          },
          "metadata": {
            "tags": []
          },
          "execution_count": 5
        },
        {
          "output_type": "display_data",
          "data": {
            "image/png": "[encoded data removed]",
            "text/plain": [
              "<Figure size 1440x720 with 1 Axes>"
            ]
          },
          "metadata": {
            "tags": [],
            "needs_background": "light"
          }
        }
      ]
    },
    {
      "cell_type": "code",
      "metadata": {
        "id": "xlkqQNYtZSmp"
      },
      "source": [
        "y_pred_list = []\r\n",
        "y_true = []\r\n",
        "with torch.no_grad():\r\n",
        "    net.eval()\r\n",
        "    for X_batch, true_ones in test_dataloader:\r\n",
        "        X_batch = X_batch.to(device)\r\n",
        "        y_test_pred = net(X_batch)\r\n",
        "        _, y_pred_tags = torch.max(y_test_pred, dim = 1)\r\n",
        "        y_pred_list.append(y_pred_tags.cpu().numpy())\r\n",
        "        y_true.append(true_ones)\r\n",
        "y_pred_list = [a.squeeze().tolist() for a in y_pred_list]"
      ],
      "execution_count": null,
      "outputs": []
    },
    {
      "cell_type": "code",
      "metadata": {
        "id": "VkBirVGzZSpT",
        "colab": {
          "base_uri": "https://localhost:8080/",
          "height": 303
        },
        "outputId": "b6319b31-c21b-48df-885c-e800b0dc048a"
      },
      "source": [
        "print(classification_report(y_true, y_pred_list))"
      ],
      "execution_count": null,
      "outputs": [
        {
          "output_type": "error",
          "ename": "ValueError",
          "evalue": "ignored",
          "traceback": [
            "\u001b[0;31m---------------------------------------------------------------------------\u001b[0m",
            "\u001b[0;31mValueError\u001b[0m                                Traceback (most recent call last)",
            "\u001b[0;32m<ipython-input-16-64c1fbff6cfc>\u001b[0m in \u001b[0;36m<module>\u001b[0;34m()\u001b[0m\n\u001b[0;32m----> 1\u001b[0;31m \u001b[0mprint\u001b[0m\u001b[0;34m(\u001b[0m\u001b[0mclassification_report\u001b[0m\u001b[0;34m(\u001b[0m\u001b[0m_\u001b[0m\u001b[0;34m,\u001b[0m \u001b[0my_pred_list\u001b[0m\u001b[0;34m)\u001b[0m\u001b[0;34m)\u001b[0m\u001b[0;34m\u001b[0m\u001b[0;34m\u001b[0m\u001b[0m\n\u001b[0m",
            "\u001b[0;32m/usr/local/lib/python3.7/dist-packages/sklearn/metrics/_classification.py\u001b[0m in \u001b[0;36mclassification_report\u001b[0;34m(y_true, y_pred, labels, target_names, sample_weight, digits, output_dict, zero_division)\u001b[0m\n\u001b[1;32m   1969\u001b[0m     \"\"\"\n\u001b[1;32m   1970\u001b[0m \u001b[0;34m\u001b[0m\u001b[0m\n\u001b[0;32m-> 1971\u001b[0;31m     \u001b[0my_type\u001b[0m\u001b[0;34m,\u001b[0m \u001b[0my_true\u001b[0m\u001b[0;34m,\u001b[0m \u001b[0my_pred\u001b[0m \u001b[0;34m=\u001b[0m \u001b[0m_check_targets\u001b[0m\u001b[0;34m(\u001b[0m\u001b[0my_true\u001b[0m\u001b[0;34m,\u001b[0m \u001b[0my_pred\u001b[0m\u001b[0;34m)\u001b[0m\u001b[0;34m\u001b[0m\u001b[0;34m\u001b[0m\u001b[0m\n\u001b[0m\u001b[1;32m   1972\u001b[0m \u001b[0;34m\u001b[0m\u001b[0m\n\u001b[1;32m   1973\u001b[0m     \u001b[0mlabels_given\u001b[0m \u001b[0;34m=\u001b[0m \u001b[0;32mTrue\u001b[0m\u001b[0;34m\u001b[0m\u001b[0;34m\u001b[0m\u001b[0m\n",
            "\u001b[0;32m/usr/local/lib/python3.7/dist-packages/sklearn/metrics/_classification.py\u001b[0m in \u001b[0;36m_check_targets\u001b[0;34m(y_true, y_pred)\u001b[0m\n\u001b[1;32m     78\u001b[0m     \u001b[0my_pred\u001b[0m \u001b[0;34m:\u001b[0m \u001b[0marray\u001b[0m \u001b[0;32mor\u001b[0m \u001b[0mindicator\u001b[0m \u001b[0mmatrix\u001b[0m\u001b[0;34m\u001b[0m\u001b[0;34m\u001b[0m\u001b[0m\n\u001b[1;32m     79\u001b[0m     \"\"\"\n\u001b[0;32m---> 80\u001b[0;31m     \u001b[0mcheck_consistent_length\u001b[0m\u001b[0;34m(\u001b[0m\u001b[0my_true\u001b[0m\u001b[0;34m,\u001b[0m \u001b[0my_pred\u001b[0m\u001b[0;34m)\u001b[0m\u001b[0;34m\u001b[0m\u001b[0;34m\u001b[0m\u001b[0m\n\u001b[0m\u001b[1;32m     81\u001b[0m     \u001b[0mtype_true\u001b[0m \u001b[0;34m=\u001b[0m \u001b[0mtype_of_target\u001b[0m\u001b[0;34m(\u001b[0m\u001b[0my_true\u001b[0m\u001b[0;34m)\u001b[0m\u001b[0;34m\u001b[0m\u001b[0;34m\u001b[0m\u001b[0m\n\u001b[1;32m     82\u001b[0m     \u001b[0mtype_pred\u001b[0m \u001b[0;34m=\u001b[0m \u001b[0mtype_of_target\u001b[0m\u001b[0;34m(\u001b[0m\u001b[0my_pred\u001b[0m\u001b[0;34m)\u001b[0m\u001b[0;34m\u001b[0m\u001b[0;34m\u001b[0m\u001b[0m\n",
            "\u001b[0;32m/usr/local/lib/python3.7/dist-packages/sklearn/utils/validation.py\u001b[0m in \u001b[0;36mcheck_consistent_length\u001b[0;34m(*arrays)\u001b[0m\n\u001b[1;32m    210\u001b[0m     \u001b[0;32mif\u001b[0m \u001b[0mlen\u001b[0m\u001b[0;34m(\u001b[0m\u001b[0muniques\u001b[0m\u001b[0;34m)\u001b[0m \u001b[0;34m>\u001b[0m \u001b[0;36m1\u001b[0m\u001b[0;34m:\u001b[0m\u001b[0;34m\u001b[0m\u001b[0;34m\u001b[0m\u001b[0m\n\u001b[1;32m    211\u001b[0m         raise ValueError(\"Found input variables with inconsistent numbers of\"\n\u001b[0;32m--> 212\u001b[0;31m                          \" samples: %r\" % [int(l) for l in lengths])\n\u001b[0m\u001b[1;32m    213\u001b[0m \u001b[0;34m\u001b[0m\u001b[0m\n\u001b[1;32m    214\u001b[0m \u001b[0;34m\u001b[0m\u001b[0m\n",
            "\u001b[0;31mValueError\u001b[0m: Found input variables with inconsistent numbers of samples: [80, 11]"
          ]
        }
      ]
    },
    {
      "cell_type": "code",
      "metadata": {
        "id": "Dd5dleJVZSsw"
      },
      "source": [
        ""
      ],
      "execution_count": null,
      "outputs": []
    },
    {
      "cell_type": "markdown",
      "metadata": {
        "id": "jxh5qfQv6LIh"
      },
      "source": [
        "hyper-tuning"
      ]
    },
    {
      "cell_type": "code",
      "metadata": {
        "colab": {
          "base_uri": "https://localhost:8080/"
        },
        "id": "uLjPpSkGTD1c",
        "outputId": "011b8b43-d931-4e15-d4a0-7111dc186667"
      },
      "source": [
        "vgg_features_test = pretrained_model.predict(x_test)\r\n",
        "\r\n",
        "predictions = model2.predict(vgg_features_test, verbose=1)\r\n",
        "\r\n",
        "y_true, y_pred = [],[]\r\n",
        "classes = encoder.classes_\r\n",
        "for idx, prediction in enumerate(predictions): \r\n",
        "    y_true.append(classes[np.argmax(y_test[idx])])\r\n",
        "    y_pred.append(classes[np.argmax(prediction)])\r\n",
        "    \r\n",
        "print(classification_report(y_pred, y_true))"
      ],
      "execution_count": null,
      "outputs": [
        {
          "output_type": "stream",
          "text": [
            "19/19 [==============================] - 0s 2ms/step\n",
            "              precision    recall  f1-score   support\n",
            "\n",
            "          AK       0.41      0.54      0.46        59\n",
            "         BCC       0.32      0.69      0.44        52\n",
            "         BKL       0.47      0.43      0.45       113\n",
            "          DF       0.27      0.29      0.28        31\n",
            "         MEL       0.44      0.60      0.51        67\n",
            "          NV       0.61      0.38      0.47       162\n",
            "         SCC       0.44      0.38      0.41        69\n",
            "        VASC       0.73      0.35      0.47        46\n",
            "\n",
            "    accuracy                           0.45       599\n",
            "   macro avg       0.46      0.46      0.44       599\n",
            "weighted avg       0.49      0.45      0.45       599\n",
            "\n"
          ],
          "name": "stdout"
        }
      ]
    }
  ]
}