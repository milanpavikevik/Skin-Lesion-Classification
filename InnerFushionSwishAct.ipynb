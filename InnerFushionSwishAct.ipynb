{
 "cells": [
  {
   "cell_type": "markdown",
   "id": "13a699b3",
   "metadata": {
    "papermill": {
     "duration": 0.029893,
     "end_time": "2022-02-27T19:26:45.025540",
     "exception": false,
     "start_time": "2022-02-27T19:26:44.995647",
     "status": "completed"
    },
    "tags": []
   },
   "source": [
    "# Triple Stratified KFold CV with TFRecords\n",
    "This is a simple starter notebook for Kaggle's Melanoma Comp showing triple stratifed KFold with TFRecords. Triple stratified KFold is explained [here][2]. There are many configuration variables below to allow you to experiment. Use either GPU or TPU. You can control which size images are loaded, which efficientNets are used, and whether external data is used. You can experiment with different data augmentation, model architecture, loss, optimizers, and learning schedules. The TFRecords contain meta data, so you can input that into your CNN too. \n"
   ]
  },
  {
   "cell_type": "markdown",
   "id": "9b9e22f9",
   "metadata": {
    "papermill": {
     "duration": 0.023377,
     "end_time": "2022-02-27T19:26:45.073276",
     "exception": false,
     "start_time": "2022-02-27T19:26:45.049899",
     "status": "completed"
    },
    "tags": []
   },
   "source": [
    "# Initialize Environment"
   ]
  },
  {
   "cell_type": "code",
   "execution_count": 1,
   "id": "e7a4b36d",
   "metadata": {
    "_cell_guid": "b1076dfc-b9ad-4769-8c92-a6c4dae69d19",
    "_uuid": "8f2839f25d086af736a60e9eeb907d3b93b6e0e5",
    "execution": {
     "iopub.execute_input": "2022-02-27T19:26:45.120953Z",
     "iopub.status.busy": "2022-02-27T19:26:45.119114Z",
     "iopub.status.idle": "2022-02-27T19:26:55.043212Z",
     "shell.execute_reply": "2022-02-27T19:26:55.042414Z",
     "shell.execute_reply.started": "2022-02-27T19:09:29.69799Z"
    },
    "papermill": {
     "duration": 9.948853,
     "end_time": "2022-02-27T19:26:55.043418",
     "exception": false,
     "start_time": "2022-02-27T19:26:45.094565",
     "status": "completed"
    },
    "tags": []
   },
   "outputs": [
    {
     "name": "stdout",
     "output_type": "stream",
     "text": [
      "\u001b[33mWARNING: Running pip as the 'root' user can result in broken permissions and conflicting behaviour with the system package manager. It is recommended to use a virtual environment instead: https://pip.pypa.io/warnings/venv\u001b[0m\r\n"
     ]
    }
   ],
   "source": [
    "!pip install -q efficientnet >> /dev/null"
   ]
  },
  {
   "cell_type": "code",
   "execution_count": 2,
   "id": "e61e1f40",
   "metadata": {
    "execution": {
     "iopub.execute_input": "2022-02-27T19:26:55.093923Z",
     "iopub.status.busy": "2022-02-27T19:26:55.093195Z",
     "iopub.status.idle": "2022-02-27T19:27:01.635083Z",
     "shell.execute_reply": "2022-02-27T19:27:01.634506Z",
     "shell.execute_reply.started": "2022-02-27T19:09:40.376963Z"
    },
    "papermill": {
     "duration": 6.57045,
     "end_time": "2022-02-27T19:27:01.635246",
     "exception": false,
     "start_time": "2022-02-27T19:26:55.064796",
     "status": "completed"
    },
    "tags": []
   },
   "outputs": [
    {
     "name": "stderr",
     "output_type": "stream",
     "text": [
      "2022-02-27 19:26:55.726837: W tensorflow/stream_executor/platform/default/dso_loader.cc:60] Could not load dynamic library 'libcudart.so.11.0'; dlerror: libcudart.so.11.0: cannot open shared object file: No such file or directory; LD_LIBRARY_PATH: /opt/conda/lib\n",
      "2022-02-27 19:26:55.726954: I tensorflow/stream_executor/cuda/cudart_stub.cc:29] Ignore above cudart dlerror if you do not have a GPU set up on your machine.\n"
     ]
    }
   ],
   "source": [
    "import pandas as pd, numpy as np\n",
    "from kaggle_datasets import KaggleDatasets\n",
    "import tensorflow as tf, re, math\n",
    "import tensorflow.keras.backend as K\n",
    "import efficientnet.tfkeras as efn\n",
    "from sklearn.model_selection import KFold\n",
    "from sklearn.metrics import roc_auc_score\n",
    "import matplotlib.pyplot as plt\n",
    "import time\n",
    "from tensorflow.keras.optimizers import SGD\n",
    "from tensorflow.keras.initializers import glorot_uniform\n",
    "from tensorflow.keras.applications.inception_v3 import InceptionV3"
   ]
  },
  {
   "cell_type": "markdown",
   "id": "2f56e304",
   "metadata": {
    "papermill": {
     "duration": 0.020616,
     "end_time": "2022-02-27T19:27:01.676523",
     "exception": false,
     "start_time": "2022-02-27T19:27:01.655907",
     "status": "completed"
    },
    "tags": []
   },
   "source": [
    "## Configuration\n",
    "In order to be a proper cross validation with a meaningful overall CV score (aligned with LB score), **you need to choose the same** `IMG_SIZES`, `INC2019`, `INC2018`, and `EFF_NETS` **for each fold**. If your goal is to just run lots of experiments, then you can choose to have a different experiment in each fold. Then each fold is like a holdout validation experiment. When you find a configuration you like, you can use that configuration for all folds. \n",
    "* DEVICE - is GPU or TPU\n",
    "* SEED - a different seed produces a different triple stratified kfold split.\n",
    "* FOLDS - number of folds. Best set to 3, 5, or 15 but can be any number between 2 and 15\n",
    "* IMG_SIZES - is a Python list of length FOLDS. These are the image sizes to use each fold\n",
    "* INC2019 - This includes the new half of the 2019 competition data. The second half of the 2019 data is the comp data from 2018 plus 2017\n",
    "* INC2018 - This includes the second half of the 2019 competition data which is the comp data from 2018 plus 2017\n",
    "* BATCH_SIZES - is a list of length FOLDS. These are batch sizes for each fold. For maximum speed, it is best to use the largest batch size your GPU or TPU allows.\n",
    "* EPOCHS - is a list of length FOLDS. These are maximum epochs. Note that each fold, the best epoch model is saved and used. So if epochs is too large, it won't matter.\n",
    "* EFF_NETS - is a list of length FOLDS. These are the EfficientNets to use each fold. The number refers to the B. So a number of `0` refers to EfficientNetB0, and `1` refers to EfficientNetB1, etc.\n",
    "* WGTS - this should be `1/FOLDS` for each fold. This is the weight when ensembling the folds to predict the test set. If you want a weird ensemble, you can use different weights.\n",
    "* TTA - test time augmentation. Each test image is randomly augmented and predicted TTA times and the average prediction is used. TTA is also applied to OOF during validation."
   ]
  },
  {
   "cell_type": "code",
   "execution_count": 3,
   "id": "a79b7a17",
   "metadata": {
    "_cell_guid": "79c7e3d0-c299-4dcb-8224-4455121ee9b0",
    "_uuid": "d629ff2d2480ee46fbb7e2d37f6b5fab8052498a",
    "execution": {
     "iopub.execute_input": "2022-02-27T19:27:01.721784Z",
     "iopub.status.busy": "2022-02-27T19:27:01.721065Z",
     "iopub.status.idle": "2022-02-27T19:27:01.729140Z",
     "shell.execute_reply": "2022-02-27T19:27:01.729664Z",
     "shell.execute_reply.started": "2022-02-27T19:09:47.246243Z"
    },
    "papermill": {
     "duration": 0.032516,
     "end_time": "2022-02-27T19:27:01.729838",
     "exception": false,
     "start_time": "2022-02-27T19:27:01.697322",
     "status": "completed"
    },
    "tags": []
   },
   "outputs": [],
   "source": [
    "DEVICE = \"TPU\" #or \"GPU\"\n",
    "\n",
    "# USE DIFFERENT SEED FOR DIFFERENT STRATIFIED KFOLD\n",
    "SEED = 42\n",
    "\n",
    "# NUMBER OF FOLDS. USE 3, 5, OR 15 \n",
    "FOLDS = 5\n",
    "\n",
    "# WHICH IMAGE SIZES TO LOAD EACH FOLD\n",
    "# CHOOSE 128, 192, 256, 384, 512, 768 \n",
    "IMG_SIZES = [384,384,384,384,384]\n",
    "\n",
    "# INCLUDE OLD COMP DATA? YES=1 NO=0\n",
    "INC2019 = [0,0,0,0,0]\n",
    "INC2018 = [1,1,1,1,1]\n",
    "\n",
    "# BATCH SIZE AND EPOCHS\n",
    "BATCH_SIZES = [32]*FOLDS\n",
    "EPOCHS = [13]*FOLDS\n",
    "\n",
    "# WHICH EFFICIENTNET B? TO USE\n",
    "EFF_NETS = [6,6,6,6,6]\n",
    "\n",
    "# WEIGHTS FOR FOLD MODELS WHEN PREDICTING TEST\n",
    "WGTS = [1/FOLDS]*FOLDS\n",
    "\n",
    "# TEST TIME AUGMENTATION STEPS\n",
    "TTA = 11"
   ]
  },
  {
   "cell_type": "code",
   "execution_count": 4,
   "id": "0b7b65f5",
   "metadata": {
    "execution": {
     "iopub.execute_input": "2022-02-27T19:27:01.775800Z",
     "iopub.status.busy": "2022-02-27T19:27:01.775139Z",
     "iopub.status.idle": "2022-02-27T19:27:07.740561Z",
     "shell.execute_reply": "2022-02-27T19:27:07.739909Z",
     "shell.execute_reply.started": "2022-02-27T19:09:47.259094Z"
    },
    "papermill": {
     "duration": 5.990184,
     "end_time": "2022-02-27T19:27:07.740769",
     "exception": false,
     "start_time": "2022-02-27T19:27:01.750585",
     "status": "completed"
    },
    "tags": []
   },
   "outputs": [
    {
     "name": "stdout",
     "output_type": "stream",
     "text": [
      "connecting to TPU...\n",
      "Running on TPU  grpc://10.0.0.2:8470\n",
      "initializing  TPU ...\n"
     ]
    },
    {
     "name": "stderr",
     "output_type": "stream",
     "text": [
      "2022-02-27 19:27:01.785522: I tensorflow/compiler/jit/xla_cpu_device.cc:41] Not creating XLA devices, tf_xla_enable_xla_devices not set\n",
      "2022-02-27 19:27:01.788836: W tensorflow/stream_executor/platform/default/dso_loader.cc:60] Could not load dynamic library 'libcuda.so.1'; dlerror: libcuda.so.1: cannot open shared object file: No such file or directory; LD_LIBRARY_PATH: /opt/conda/lib\n",
      "2022-02-27 19:27:01.788886: W tensorflow/stream_executor/cuda/cuda_driver.cc:326] failed call to cuInit: UNKNOWN ERROR (303)\n",
      "2022-02-27 19:27:01.788933: I tensorflow/stream_executor/cuda/cuda_diagnostics.cc:156] kernel driver does not appear to be running on this host (4008a51a559c): /proc/driver/nvidia/version does not exist\n",
      "2022-02-27 19:27:01.792455: I tensorflow/core/platform/cpu_feature_guard.cc:142] This TensorFlow binary is optimized with oneAPI Deep Neural Network Library (oneDNN) to use the following CPU instructions in performance-critical operations:  AVX2 FMA\n",
      "To enable them in other operations, rebuild TensorFlow with the appropriate compiler flags.\n",
      "2022-02-27 19:27:01.793995: I tensorflow/compiler/jit/xla_gpu_device.cc:99] Not creating XLA devices, tf_xla_enable_xla_devices not set\n",
      "2022-02-27 19:27:01.824817: I tensorflow/core/distributed_runtime/rpc/grpc_channel.cc:301] Initialize GrpcChannelCache for job worker -> {0 -> 10.0.0.2:8470}\n",
      "2022-02-27 19:27:01.824874: I tensorflow/core/distributed_runtime/rpc/grpc_channel.cc:301] Initialize GrpcChannelCache for job localhost -> {0 -> localhost:30019}\n",
      "2022-02-27 19:27:01.851531: I tensorflow/core/distributed_runtime/rpc/grpc_channel.cc:301] Initialize GrpcChannelCache for job worker -> {0 -> 10.0.0.2:8470}\n",
      "2022-02-27 19:27:01.851592: I tensorflow/core/distributed_runtime/rpc/grpc_channel.cc:301] Initialize GrpcChannelCache for job localhost -> {0 -> localhost:30019}\n",
      "2022-02-27 19:27:01.853295: I tensorflow/core/distributed_runtime/rpc/grpc_server_lib.cc:411] Started server with target: grpc://localhost:30019\n"
     ]
    },
    {
     "name": "stdout",
     "output_type": "stream",
     "text": [
      "TPU initialized\n",
      "REPLICAS: 8\n"
     ]
    }
   ],
   "source": [
    "if DEVICE == \"TPU\":\n",
    "    print(\"connecting to TPU...\")\n",
    "    try:\n",
    "        tpu = tf.distribute.cluster_resolver.TPUClusterResolver()\n",
    "        print('Running on TPU ', tpu.master())\n",
    "    except ValueError:\n",
    "        print(\"Could not connect to TPU\")\n",
    "        tpu = None\n",
    "\n",
    "    if tpu:\n",
    "        try:\n",
    "            print(\"initializing  TPU ...\")\n",
    "            tf.config.experimental_connect_to_cluster(tpu)\n",
    "            tf.tpu.experimental.initialize_tpu_system(tpu)\n",
    "            strategy = tf.distribute.experimental.TPUStrategy(tpu)\n",
    "            print(\"TPU initialized\")\n",
    "        except _:\n",
    "            print(\"failed to initialize TPU\")\n",
    "    else:\n",
    "        DEVICE = \"GPU\"\n",
    "\n",
    "if DEVICE != \"TPU\":\n",
    "    print(\"Using default strategy for CPU and single GPU\")\n",
    "    strategy = tf.distribute.get_strategy()\n",
    "\n",
    "if DEVICE == \"GPU\":\n",
    "    print(\"Num GPUs Available: \", len(tf.config.experimental.list_physical_devices('GPU')))\n",
    "    \n",
    "\n",
    "AUTO     = tf.data.experimental.AUTOTUNE\n",
    "REPLICAS = strategy.num_replicas_in_sync\n",
    "print(f'REPLICAS: {REPLICAS}')"
   ]
  },
  {
   "cell_type": "markdown",
   "id": "56aeab65",
   "metadata": {
    "papermill": {
     "duration": 0.021569,
     "end_time": "2022-02-27T19:27:07.784658",
     "exception": false,
     "start_time": "2022-02-27T19:27:07.763089",
     "status": "completed"
    },
    "tags": []
   },
   "source": [
    "# Step 1: Preprocess\n",
    "Preprocess has already been done and saved to TFRecords. Here we choose which size to load. We can use either 128x128, 192x192, 256x256, 384x384, 512x512, 768x768 \n"
   ]
  },
  {
   "cell_type": "code",
   "execution_count": 5,
   "id": "c5317d05",
   "metadata": {
    "execution": {
     "iopub.execute_input": "2022-02-27T19:27:07.837979Z",
     "iopub.status.busy": "2022-02-27T19:27:07.837280Z",
     "iopub.status.idle": "2022-02-27T19:27:13.184675Z",
     "shell.execute_reply": "2022-02-27T19:27:13.185163Z",
     "shell.execute_reply.started": "2022-02-27T19:09:52.857426Z"
    },
    "papermill": {
     "duration": 5.378832,
     "end_time": "2022-02-27T19:27:13.185343",
     "exception": false,
     "start_time": "2022-02-27T19:27:07.806511",
     "status": "completed"
    },
    "tags": []
   },
   "outputs": [
    {
     "name": "stdout",
     "output_type": "stream",
     "text": [
      "['gs://kds-c3a58c14b5ab76a6a37972e0a7b1d6655770bdbd96c8f47dcc7b45ee', 'gs://kds-c3a58c14b5ab76a6a37972e0a7b1d6655770bdbd96c8f47dcc7b45ee', 'gs://kds-c3a58c14b5ab76a6a37972e0a7b1d6655770bdbd96c8f47dcc7b45ee', 'gs://kds-c3a58c14b5ab76a6a37972e0a7b1d6655770bdbd96c8f47dcc7b45ee', 'gs://kds-c3a58c14b5ab76a6a37972e0a7b1d6655770bdbd96c8f47dcc7b45ee']\n",
      "['gs://kds-55e650f3625706425fdd4f812f50658e4402810b16fc891dbf17692a', 'gs://kds-55e650f3625706425fdd4f812f50658e4402810b16fc891dbf17692a', 'gs://kds-55e650f3625706425fdd4f812f50658e4402810b16fc891dbf17692a', 'gs://kds-55e650f3625706425fdd4f812f50658e4402810b16fc891dbf17692a', 'gs://kds-55e650f3625706425fdd4f812f50658e4402810b16fc891dbf17692a']\n"
     ]
    },
    {
     "name": "stderr",
     "output_type": "stream",
     "text": [
      "2022-02-27 19:27:13.021042: I tensorflow/core/platform/cloud/google_auth_provider.cc:180] Attempting an empty bearer token since no token was retrieved from files, and GCE metadata check was skipped.\n",
      "2022-02-27 19:27:13.104721: I tensorflow/core/platform/cloud/google_auth_provider.cc:180] Attempting an empty bearer token since no token was retrieved from files, and GCE metadata check was skipped.\n"
     ]
    }
   ],
   "source": [
    "GCS_PATH = [None]*FOLDS; GCS_PATH2 = [None]*FOLDS\n",
    "for i,k in enumerate(IMG_SIZES):\n",
    "    GCS_PATH[i] = KaggleDatasets().get_gcs_path('melanoma-%ix%i'%(k,k))\n",
    "    GCS_PATH2[i] = KaggleDatasets().get_gcs_path('isic2019-%ix%i'%(k,k))\n",
    "print(GCS_PATH)\n",
    "print(GCS_PATH2)\n",
    "files_train = np.sort(np.array(tf.io.gfile.glob(GCS_PATH[0] + '/train*.tfrec')))\n",
    "files_test  = np.sort(np.array(tf.io.gfile.glob(GCS_PATH[0] + '/test*.tfrec')))"
   ]
  },
  {
   "cell_type": "markdown",
   "id": "43257d27",
   "metadata": {
    "papermill": {
     "duration": 0.022319,
     "end_time": "2022-02-27T19:27:13.230517",
     "exception": false,
     "start_time": "2022-02-27T19:27:13.208198",
     "status": "completed"
    },
    "tags": []
   },
   "source": [
    "# Step 2: Data Augmentation\n",
    "This notebook uses rotation, sheer, zoom, shift augmentation first shown in this notebook [here][1] and successfully used in Melanoma comp by AgentAuers [here][2]. This notebook also uses horizontal flip, hue, saturation, contrast, brightness augmentation similar to last years winner and also similar to AgentAuers' notebook.\n"
   ]
  },
  {
   "cell_type": "code",
   "execution_count": 6,
   "id": "d176152a",
   "metadata": {
    "execution": {
     "iopub.execute_input": "2022-02-27T19:27:13.281082Z",
     "iopub.status.busy": "2022-02-27T19:27:13.280402Z",
     "iopub.status.idle": "2022-02-27T19:27:13.282427Z",
     "shell.execute_reply": "2022-02-27T19:27:13.282883Z",
     "shell.execute_reply.started": "2022-02-27T19:09:58.908496Z"
    },
    "papermill": {
     "duration": 0.030122,
     "end_time": "2022-02-27T19:27:13.283070",
     "exception": false,
     "start_time": "2022-02-27T19:27:13.252948",
     "status": "completed"
    },
    "tags": []
   },
   "outputs": [],
   "source": [
    "ROT_ = 180.0\n",
    "SHR_ = 2.0\n",
    "HZOOM_ = 8.0\n",
    "WZOOM_ = 8.0\n",
    "HSHIFT_ = 8.0\n",
    "WSHIFT_ = 8.0"
   ]
  },
  {
   "cell_type": "code",
   "execution_count": 7,
   "id": "64981e6f",
   "metadata": {
    "execution": {
     "iopub.execute_input": "2022-02-27T19:27:13.337559Z",
     "iopub.status.busy": "2022-02-27T19:27:13.331737Z",
     "iopub.status.idle": "2022-02-27T19:27:13.352511Z",
     "shell.execute_reply": "2022-02-27T19:27:13.351865Z",
     "shell.execute_reply.started": "2022-02-27T19:09:58.915994Z"
    },
    "papermill": {
     "duration": 0.04683,
     "end_time": "2022-02-27T19:27:13.352675",
     "exception": false,
     "start_time": "2022-02-27T19:27:13.305845",
     "status": "completed"
    },
    "tags": []
   },
   "outputs": [],
   "source": [
    "def get_mat(rotation, shear, height_zoom, width_zoom, height_shift, width_shift):\n",
    "    # returns 3x3 transformmatrix which transforms indicies\n",
    "        \n",
    "    # CONVERT DEGREES TO RADIANS\n",
    "    rotation = math.pi * rotation / 180.\n",
    "    shear    = math.pi * shear    / 180.\n",
    "\n",
    "    def get_3x3_mat(lst):\n",
    "        return tf.reshape(tf.concat([lst],axis=0), [3,3])\n",
    "    \n",
    "    # ROTATION MATRIX\n",
    "    c1   = tf.math.cos(rotation)\n",
    "    s1   = tf.math.sin(rotation)\n",
    "    one  = tf.constant([1],dtype='float32')\n",
    "    zero = tf.constant([0],dtype='float32')\n",
    "    \n",
    "    rotation_matrix = get_3x3_mat([c1,   s1,   zero, \n",
    "                                   -s1,  c1,   zero, \n",
    "                                   zero, zero, one])    \n",
    "    # SHEAR MATRIX\n",
    "    c2 = tf.math.cos(shear)\n",
    "    s2 = tf.math.sin(shear)    \n",
    "    \n",
    "    shear_matrix = get_3x3_mat([one,  s2,   zero, \n",
    "                                zero, c2,   zero, \n",
    "                                zero, zero, one])        \n",
    "    # ZOOM MATRIX\n",
    "    zoom_matrix = get_3x3_mat([one/height_zoom, zero,           zero, \n",
    "                               zero,            one/width_zoom, zero, \n",
    "                               zero,            zero,           one])    \n",
    "    # SHIFT MATRIX\n",
    "    shift_matrix = get_3x3_mat([one,  zero, height_shift, \n",
    "                                zero, one,  width_shift, \n",
    "                                zero, zero, one])\n",
    "    \n",
    "    return K.dot(K.dot(rotation_matrix, shear_matrix), \n",
    "                 K.dot(zoom_matrix,     shift_matrix))\n",
    "\n",
    "\n",
    "def transform(image, DIM=256):    \n",
    "    # input image - is one image of size [dim,dim,3] not a batch of [b,dim,dim,3]\n",
    "    # output - image randomly rotated, sheared, zoomed, and shifted\n",
    "    XDIM = DIM%2 #fix for size 331\n",
    "    \n",
    "    rot = ROT_ * tf.random.normal([1], dtype='float32')\n",
    "    shr = SHR_ * tf.random.normal([1], dtype='float32') \n",
    "    h_zoom = 1.0 + tf.random.normal([1], dtype='float32') / HZOOM_\n",
    "    w_zoom = 1.0 + tf.random.normal([1], dtype='float32') / WZOOM_\n",
    "    h_shift = HSHIFT_ * tf.random.normal([1], dtype='float32') \n",
    "    w_shift = WSHIFT_ * tf.random.normal([1], dtype='float32') \n",
    "\n",
    "    # GET TRANSFORMATION MATRIX\n",
    "    m = get_mat(rot,shr,h_zoom,w_zoom,h_shift,w_shift) \n",
    "\n",
    "    # LIST DESTINATION PIXEL INDICES\n",
    "    x   = tf.repeat(tf.range(DIM//2, -DIM//2,-1), DIM)\n",
    "    y   = tf.tile(tf.range(-DIM//2, DIM//2), [DIM])\n",
    "    z   = tf.ones([DIM*DIM], dtype='int32')\n",
    "    idx = tf.stack( [x,y,z] )\n",
    "    \n",
    "    # ROTATE DESTINATION PIXELS ONTO ORIGIN PIXELS\n",
    "    idx2 = K.dot(m, tf.cast(idx, dtype='float32'))\n",
    "    idx2 = K.cast(idx2, dtype='int32')\n",
    "    idx2 = K.clip(idx2, -DIM//2+XDIM+1, DIM//2)\n",
    "    \n",
    "    # FIND ORIGIN PIXEL VALUES           \n",
    "    idx3 = tf.stack([DIM//2-idx2[0,], DIM//2-1+idx2[1,]])\n",
    "    d    = tf.gather_nd(image, tf.transpose(idx3))\n",
    "        \n",
    "    return tf.reshape(d,[DIM, DIM,3])"
   ]
  },
  {
   "cell_type": "code",
   "execution_count": 8,
   "id": "e4c588c6",
   "metadata": {
    "execution": {
     "iopub.execute_input": "2022-02-27T19:27:13.430553Z",
     "iopub.status.busy": "2022-02-27T19:27:13.406628Z",
     "iopub.status.idle": "2022-02-27T19:27:13.433404Z",
     "shell.execute_reply": "2022-02-27T19:27:13.432869Z",
     "shell.execute_reply.started": "2022-02-27T19:09:58.93967Z"
    },
    "papermill": {
     "duration": 0.058231,
     "end_time": "2022-02-27T19:27:13.433553",
     "exception": false,
     "start_time": "2022-02-27T19:27:13.375322",
     "status": "completed"
    },
    "tags": []
   },
   "outputs": [],
   "source": [
    "def read_labeled_tfrecord(example):\n",
    "    tfrec_format = {\n",
    "        'image'                        : tf.io.FixedLenFeature([], tf.string),\n",
    "        'image_name'                   : tf.io.FixedLenFeature([], tf.string),\n",
    "        'patient_id'                   : tf.io.FixedLenFeature([], tf.int64),\n",
    "        'sex'                          : tf.io.FixedLenFeature([], tf.int64),\n",
    "        'age_approx'                   : tf.io.FixedLenFeature([], tf.int64),\n",
    "        'anatom_site_general_challenge': tf.io.FixedLenFeature([], tf.int64),\n",
    "        'diagnosis'                    : tf.io.FixedLenFeature([], tf.int64),\n",
    "        'target'                       : tf.io.FixedLenFeature([], tf.int64)\n",
    "    }           \n",
    "    example = tf.io.parse_single_example(example, tfrec_format)\n",
    "    return example['image'], example['target']\n",
    "\n",
    "def read_target_only(example):\n",
    "    tfrec_format = {\n",
    "        'image'                        : tf.io.FixedLenFeature([], tf.string),\n",
    "        'image_name'                   : tf.io.FixedLenFeature([], tf.string),\n",
    "        'patient_id'                   : tf.io.FixedLenFeature([], tf.int64),\n",
    "        'sex'                          : tf.io.FixedLenFeature([], tf.int64),\n",
    "        'age_approx'                   : tf.io.FixedLenFeature([], tf.int64),\n",
    "        'anatom_site_general_challenge': tf.io.FixedLenFeature([], tf.int64),\n",
    "        'diagnosis'                    : tf.io.FixedLenFeature([], tf.int64),\n",
    "        'target'                       : tf.io.FixedLenFeature([], tf.int64)\n",
    "    }           \n",
    "    example = tf.io.parse_single_example(example, tfrec_format)\n",
    "    return example['image'],example['sex'],example['age_approx'],example['anatom_site_general_challenge'],example['target']\n",
    "\n",
    "def read_vector_info_tfrecord(example):\n",
    "    tfrec_format = {\n",
    "        'image'                        : tf.io.FixedLenFeature([], tf.string),\n",
    "        'image_name'                   : tf.io.FixedLenFeature([], tf.string),\n",
    "        'patient_id'                   : tf.io.FixedLenFeature([], tf.int64),\n",
    "        'sex'                          : tf.io.FixedLenFeature([], tf.int64),\n",
    "        'age_approx'                   : tf.io.FixedLenFeature([], tf.int64),\n",
    "        'anatom_site_general_challenge': tf.io.FixedLenFeature([], tf.int64),\n",
    "        'diagnosis'                    : tf.io.FixedLenFeature([], tf.int64),\n",
    "        'target'                       : tf.io.FixedLenFeature([], tf.int64)\n",
    "    }           \n",
    "    example = tf.io.parse_single_example(example, tfrec_format)\n",
    "    return example['sex'],example['age_approx'],example['anatom_site_general_challenge'], example['target']\n",
    "\n",
    "def read_unlabeled_tfrecord(example, return_image_name):\n",
    "    tfrec_format = {\n",
    "        'image'                        : tf.io.FixedLenFeature([], tf.string),\n",
    "        'sex'                          : tf.io.FixedLenFeature([], tf.int64),\n",
    "        'age_approx'                   : tf.io.FixedLenFeature([], tf.int64),\n",
    "        'anatom_site_general_challenge': tf.io.FixedLenFeature([], tf.int64),\n",
    "        'image_name'                   : tf.io.FixedLenFeature([], tf.string),\n",
    "    }\n",
    "    example = tf.io.parse_single_example(example, tfrec_format)\n",
    "    return example['image'],example['sex'],example['age_approx'],example['anatom_site_general_challenge'], example['image_name'] if return_image_name else 0\n",
    "\n",
    "def read_unlabeled_info_tfrecord(example, return_image_name):\n",
    "    tfrec_format = {\n",
    "        'image'                        : tf.io.FixedLenFeature([], tf.string),\n",
    "        'image_name'                   : tf.io.FixedLenFeature([], tf.string),\n",
    "        'patient_id'                   : tf.io.FixedLenFeature([], tf.int64),\n",
    "        'sex'                          : tf.io.FixedLenFeature([], tf.int64),\n",
    "        'age_approx'                   : tf.io.FixedLenFeature([], tf.int64),\n",
    "        'anatom_site_general_challenge': tf.io.FixedLenFeature([], tf.int64),\n",
    "        'diagnosis'                    : tf.io.FixedLenFeature([], tf.int64),\n",
    "        'target'                       : tf.io.FixedLenFeature([], tf.int64)\n",
    "    }    \n",
    "    example = tf.io.parse_single_example(example, tfrec_format)\n",
    "    return example['sex'],example['age_approx'],example['anatom_site_general_challenge'], example['image_name'] if return_image_name else 0\n",
    "\n",
    "\n",
    "\n",
    " \n",
    "def prepare_image(img, augment=True, dim=256):    \n",
    "    img = tf.image.decode_jpeg(img, channels=3)\n",
    "    img = tf.cast(img, tf.float32) / 255.0\n",
    "    \n",
    "    if augment:\n",
    "        img = transform(img,DIM=dim)\n",
    "        img = tf.image.random_flip_left_right(img)\n",
    "        #img = tf.image.random_hue(img, 0.01)\n",
    "        img = tf.image.random_saturation(img, 0.7, 1.3)\n",
    "        img = tf.image.random_contrast(img, 0.8, 1.2)\n",
    "        img = tf.image.random_brightness(img, 0.1)\n",
    "                      \n",
    "    img = tf.reshape(img, [dim,dim, 3])\n",
    "            \n",
    "    return img\n",
    "\n",
    "def prepare_metadata(sex,age,anatom_site):\n",
    "    print(sex.int64_list.value[0])\n",
    "    if sex.numpy() == -1:\n",
    "        sex = 0.5\n",
    "    else:\n",
    "        sex = sex.numpy()\n",
    "    vector_x = [sex,example['age_approx'].numpy(),0,0,0,0,0,0,0]\n",
    "    if (anatom_site.numpy()==-1):\n",
    "        vector_x[2]=1\n",
    "    else:\n",
    "        vector_x[3+anatom_site.numpy()]=1\n",
    "    \n",
    "    return tf.convert_to_tensor(vector_x)\n",
    "\n",
    "def count_data_items(filenames):\n",
    "    n = [int(re.compile(r\"-([0-9]*)\\.\").search(filename).group(1)) \n",
    "         for filename in filenames]\n",
    "    return np.sum(n)"
   ]
  },
  {
   "cell_type": "code",
   "execution_count": 9,
   "id": "39523a8c",
   "metadata": {
    "execution": {
     "iopub.execute_input": "2022-02-27T19:27:13.481688Z",
     "iopub.status.busy": "2022-02-27T19:27:13.481011Z",
     "iopub.status.idle": "2022-02-27T19:27:13.490468Z",
     "shell.execute_reply": "2022-02-27T19:27:13.491047Z",
     "shell.execute_reply.started": "2022-02-27T19:09:59.14647Z"
    },
    "papermill": {
     "duration": 0.035235,
     "end_time": "2022-02-27T19:27:13.491223",
     "exception": false,
     "start_time": "2022-02-27T19:27:13.455988",
     "status": "completed"
    },
    "tags": []
   },
   "outputs": [],
   "source": [
    "def get_dataset(files, augment = False, shuffle = False, repeat = False, \n",
    "                labeled=True, return_image_names=True, batch_size=16, dim=256):\n",
    "    \n",
    "    ds = tf.data.TFRecordDataset(files, num_parallel_reads=AUTO)\n",
    "    ds = ds.cache()\n",
    "    \n",
    "    print(\"Kolku podatoci u tf_recrodite images\",sum(1 for _ in tf.data.TFRecordDataset(files)))\n",
    "    if repeat:\n",
    "        ds = ds.repeat()\n",
    "    \n",
    "    if shuffle: \n",
    "        ds = ds.shuffle(1024*8)\n",
    "        opt = tf.data.Options()\n",
    "        opt.experimental_deterministic = False\n",
    "        ds = ds.with_options(opt)\n",
    "        \n",
    "    if labeled: \n",
    "        ds = ds.map(read_labeled_tfrecord, num_parallel_calls=AUTO)\n",
    "    else:\n",
    "        ds = ds.map(lambda example: read_unlabeled_tfrecord(example, return_image_names), \n",
    "                    num_parallel_calls=AUTO)      \n",
    "    \n",
    "    ds = ds.map(lambda img, imgname_or_label: (prepare_image(img, augment=augment, dim=dim), \n",
    "                                               imgname_or_label), \n",
    "                num_parallel_calls=AUTO)\n",
    "    \n",
    "    ds = ds.batch(batch_size * REPLICAS)\n",
    "    ds = ds.prefetch(AUTO)\n",
    "    return ds"
   ]
  },
  {
   "cell_type": "code",
   "execution_count": 10,
   "id": "076e758b",
   "metadata": {
    "execution": {
     "iopub.execute_input": "2022-02-27T19:27:13.547837Z",
     "iopub.status.busy": "2022-02-27T19:27:13.547129Z",
     "iopub.status.idle": "2022-02-27T19:27:13.550572Z",
     "shell.execute_reply": "2022-02-27T19:27:13.549914Z",
     "shell.execute_reply.started": "2022-02-27T19:09:59.165592Z"
    },
    "papermill": {
     "duration": 0.036713,
     "end_time": "2022-02-27T19:27:13.550781",
     "exception": false,
     "start_time": "2022-02-27T19:27:13.514068",
     "status": "completed"
    },
    "tags": []
   },
   "outputs": [],
   "source": [
    "def get_dataset_meta_data(files, augment = False, shuffle = False, repeat = False, \n",
    "                labeled=True, return_image_names=True, batch_size=16, dim=256):\n",
    "    \n",
    "    ds = tf.data.TFRecordDataset(files, num_parallel_reads=AUTO)\n",
    "    ds = ds.cache()\n",
    "    \n",
    "    if repeat:\n",
    "        ds = ds.repeat()\n",
    "#     tf.compat.v1.enable_eager_execution()\n",
    "#     print(\"Kolku podatoci u tf_recrodite target\",sum(1 for _ in tf.data.TFRecordDataset(files)))\n",
    "    \n",
    "    \n",
    "    if shuffle: \n",
    "        ds = ds.shuffle(1024*8)\n",
    "        opt = tf.data.Options()\n",
    "        opt.experimental_deterministic = False\n",
    "        ds = ds.with_options(opt)\n",
    "        \n",
    "    if labeled: \n",
    "        ds = ds.map(read_target_only, num_parallel_calls=AUTO)\n",
    "    else:\n",
    "        ds = ds.map(lambda example: read_unlabeled_tfrecord(example, return_image_names), \n",
    "                    num_parallel_calls=AUTO)      \n",
    "    \n",
    "    ds = ds.map(lambda img,sex,age,anatom_site, imgname_or_label: (prepare_image(img, augment=augment, dim=dim),[sex,age,anatom_site]), num_parallel_calls=AUTO)\n",
    "    \n",
    "    \n",
    "    ds = ds.batch(batch_size * REPLICAS)\n",
    "    ds = ds.prefetch(AUTO)\n",
    "    \n",
    "    return ds"
   ]
  },
  {
   "cell_type": "code",
   "execution_count": 11,
   "id": "9e164209",
   "metadata": {
    "execution": {
     "iopub.execute_input": "2022-02-27T19:27:13.606960Z",
     "iopub.status.busy": "2022-02-27T19:27:13.604787Z",
     "iopub.status.idle": "2022-02-27T19:27:13.608927Z",
     "shell.execute_reply": "2022-02-27T19:27:13.609596Z",
     "shell.execute_reply.started": "2022-02-27T19:09:59.18402Z"
    },
    "papermill": {
     "duration": 0.036128,
     "end_time": "2022-02-27T19:27:13.609777",
     "exception": false,
     "start_time": "2022-02-27T19:27:13.573649",
     "status": "completed"
    },
    "tags": []
   },
   "outputs": [],
   "source": [
    "def get_dataset_target(files, augment = False, shuffle = False, repeat = False, \n",
    "                labeled=True, return_image_names=True, batch_size=16, dim=256):\n",
    "    \n",
    "    ds = tf.data.TFRecordDataset(files, num_parallel_reads=AUTO)\n",
    "    ds = ds.cache()\n",
    "    \n",
    "    if repeat:\n",
    "        ds = ds.repeat()\n",
    "#     tf.compat.v1.enable_eager_execution()\n",
    "#     print(\"Kolku podatoci u tf_recrodite target\",sum(1 for _ in tf.data.TFRecordDataset(files)))\n",
    "    \n",
    "    \n",
    "    if shuffle: \n",
    "        ds = ds.shuffle(1024*8)\n",
    "        opt = tf.data.Options()\n",
    "        opt.experimental_deterministic = False\n",
    "        ds = ds.with_options(opt)\n",
    "        \n",
    "    if labeled: \n",
    "        ds = ds.map(read_target_only, num_parallel_calls=AUTO)\n",
    "    else:\n",
    "        ds = ds.map(lambda example: read_unlabeled_tfrecord(example, return_image_names), \n",
    "                    num_parallel_calls=AUTO)      \n",
    "    \n",
    "    ds = ds.map(lambda img,sex,age,anatom_site, imgname_or_label: ((prepare_image(img, augment=augment, dim=dim),[sex,age,anatom_site]),imgname_or_label), \n",
    "                 num_parallel_calls=AUTO)\n",
    "    \n",
    "    ds = ds.batch(batch_size * REPLICAS)\n",
    "    ds = ds.prefetch(AUTO)\n",
    "    \n",
    "    return ds"
   ]
  },
  {
   "cell_type": "markdown",
   "id": "f39900ec",
   "metadata": {
    "papermill": {
     "duration": 0.02255,
     "end_time": "2022-02-27T19:27:13.655006",
     "exception": false,
     "start_time": "2022-02-27T19:27:13.632456",
     "status": "completed"
    },
    "tags": []
   },
   "source": [
    "# Step 3: Build Models\n",
    "change backbones, custom heads, losses, and optimizers. Also consider inputing meta features into your CNN."
   ]
  },
  {
   "cell_type": "code",
   "execution_count": 12,
   "id": "1f758bff",
   "metadata": {
    "execution": {
     "iopub.execute_input": "2022-02-27T19:27:13.705010Z",
     "iopub.status.busy": "2022-02-27T19:27:13.704173Z",
     "iopub.status.idle": "2022-02-27T19:27:13.951124Z",
     "shell.execute_reply": "2022-02-27T19:27:13.951679Z",
     "shell.execute_reply.started": "2022-02-27T19:09:59.201983Z"
    },
    "papermill": {
     "duration": 0.273751,
     "end_time": "2022-02-27T19:27:13.951857",
     "exception": false,
     "start_time": "2022-02-27T19:27:13.678106",
     "status": "completed"
    },
    "tags": []
   },
   "outputs": [],
   "source": [
    "from tensorflow.keras.layers import Input, Add, Dense, Activation, ZeroPadding2D, BatchNormalization, Flatten, Conv2D, AveragePooling2D, MaxPooling2D, GlobalMaxPooling2D,MaxPool2D,GlobalAveragePooling2D,Dropout\n",
    "from tensorflow.keras.layers import *\n",
    "from tensorflow.keras import Model\n",
    "\n",
    "def build_model_efn(dim=128, ef=0):\n",
    "    EFNS = [efn.EfficientNetB0, efn.EfficientNetB1, efn.EfficientNetB2, efn.EfficientNetB3, \n",
    "        efn.EfficientNetB4, efn.EfficientNetB5, efn.EfficientNetB6]\n",
    "    inp = tf.keras.layers.Input(shape=(dim,dim,3))\n",
    "    base = EFNS[ef](input_shape=(dim,dim,3),weights='imagenet',include_top=False)\n",
    "    x = base(inp)\n",
    "    x = tf.keras.layers.GlobalAveragePooling2D()(x)\n",
    "    x = tf.keras.layers.Dense(128,activation='relu')(x)\n",
    "    model = tf.keras.Model(inputs=inp,outputs=x)\n",
    "#     opt = tf.keras.optimizers.Adam(learning_rate=0.001)\n",
    "#     loss = tf.keras.losses.BinaryCrossentropy(label_smoothing=0.05) \n",
    "#     model.compile(optimizer=opt,loss=loss,metrics=['AUC'])\n",
    "    return model\n",
    "\n",
    "\n",
    "\n",
    "def identity_block(X, f, filters, stage, block):\n",
    "   \n",
    "    conv_name_base = 'res' + str(stage) + block + '_branch'\n",
    "    bn_name_base = 'bn' + str(stage) + block + '_branch'\n",
    "    F1, F2, F3 = filters\n",
    "\n",
    "    X_shortcut = X\n",
    "   \n",
    "    X = Conv2D(filters=F1, kernel_size=(1, 1), strides=(1, 1), padding='valid', name=conv_name_base + '2a', kernel_initializer=glorot_uniform(seed=0))(X)\n",
    "    X = BatchNormalization(axis=3, name=bn_name_base + '2a')(X)\n",
    "    X = Activation('relu')(X)\n",
    "\n",
    "    X = Conv2D(filters=F2, kernel_size=(f, f), strides=(1, 1), padding='same', name=conv_name_base + '2b', kernel_initializer=glorot_uniform(seed=0))(X)\n",
    "    X = BatchNormalization(axis=3, name=bn_name_base + '2b')(X)\n",
    "    X = Activation('relu')(X)\n",
    "\n",
    "    X = Conv2D(filters=F3, kernel_size=(1, 1), strides=(1, 1), padding='valid', name=conv_name_base + '2c', kernel_initializer=glorot_uniform(seed=0))(X)\n",
    "    X = BatchNormalization(axis=3, name=bn_name_base + '2c')(X)\n",
    "\n",
    "    X = Add()([X, X_shortcut])# SKIP Connection\n",
    "    X = Activation('relu')(X)\n",
    "\n",
    "    return X\n",
    "\n",
    "def convolutional_block(X, f, filters, stage, block, s=2):\n",
    "   \n",
    "    conv_name_base = 'res' + str(stage) + block + '_branch'\n",
    "    bn_name_base = 'bn' + str(stage) + block + '_branch'\n",
    "\n",
    "    F1, F2, F3 = filters\n",
    "\n",
    "    X_shortcut = X\n",
    "\n",
    "    X = Conv2D(filters=F1, kernel_size=(1, 1), strides=(s, s), padding='valid', name=conv_name_base + '2a', kernel_initializer=glorot_uniform(seed=0))(X)\n",
    "    X = BatchNormalization(axis=3, name=bn_name_base + '2a')(X)\n",
    "    X = Activation('relu')(X)\n",
    "\n",
    "    X = Conv2D(filters=F2, kernel_size=(f, f), strides=(1, 1), padding='same', name=conv_name_base + '2b', kernel_initializer=glorot_uniform(seed=0))(X)\n",
    "    X = BatchNormalization(axis=3, name=bn_name_base + '2b')(X)\n",
    "    X = Activation('relu')(X)\n",
    "\n",
    "    X = Conv2D(filters=F3, kernel_size=(1, 1), strides=(1, 1), padding='valid', name=conv_name_base + '2c', kernel_initializer=glorot_uniform(seed=0))(X)\n",
    "    X = BatchNormalization(axis=3, name=bn_name_base + '2c')(X)\n",
    "\n",
    "    X_shortcut = Conv2D(filters=F3, kernel_size=(1, 1), strides=(s, s), padding='valid', name=conv_name_base + '1', kernel_initializer=glorot_uniform(seed=0))(X_shortcut)\n",
    "    X_shortcut = BatchNormalization(axis=3, name=bn_name_base + '1')(X_shortcut)\n",
    "\n",
    "    X = Add()([X, X_shortcut])\n",
    "    X = Activation('relu')(X)\n",
    "\n",
    "    return X\n",
    "\n",
    "def ResNet50(input_shape=(224, 224, 3)):\n",
    "\n",
    "    X_input = Input(input_shape)\n",
    "\n",
    "    X = ZeroPadding2D((3, 3))(X_input)\n",
    "\n",
    "    X = Conv2D(64, (7, 7), strides=(2, 2), name='conv1', kernel_initializer=glorot_uniform(seed=0))(X)\n",
    "    X = BatchNormalization(axis=3, name='bn_conv1')(X)\n",
    "    X = Activation('relu')(X)\n",
    "    X = MaxPooling2D((3, 3), strides=(2, 2))(X)\n",
    "\n",
    "    X = convolutional_block(X, f=3, filters=[64, 64, 256], stage=2, block='a', s=1)\n",
    "    X = identity_block(X, 3, [64, 64, 256], stage=2, block='b')\n",
    "    X = identity_block(X, 3, [64, 64, 256], stage=2, block='c')\n",
    "\n",
    "\n",
    "    X = convolutional_block(X, f=3, filters=[128, 128, 512], stage=3, block='a', s=2)\n",
    "    X = identity_block(X, 3, [128, 128, 512], stage=3, block='b')\n",
    "    X = identity_block(X, 3, [128, 128, 512], stage=3, block='c')\n",
    "    X = identity_block(X, 3, [128, 128, 512], stage=3, block='d')\n",
    "\n",
    "    X = convolutional_block(X, f=3, filters=[256, 256, 1024], stage=4, block='a', s=2)\n",
    "    X = identity_block(X, 3, [256, 256, 1024], stage=4, block='b')\n",
    "    X = identity_block(X, 3, [256, 256, 1024], stage=4, block='c')\n",
    "    X = identity_block(X, 3, [256, 256, 1024], stage=4, block='d')\n",
    "    X = identity_block(X, 3, [256, 256, 1024], stage=4, block='e')\n",
    "    X = identity_block(X, 3, [256, 256, 1024], stage=4, block='f')\n",
    "\n",
    "    X = X = convolutional_block(X, f=3, filters=[512, 512, 2048], stage=5, block='a', s=2)\n",
    "    X = identity_block(X, 3, [512, 512, 2048], stage=5, block='b')\n",
    "    X = identity_block(X, 3, [512, 512, 2048], stage=5, block='c')\n",
    "\n",
    "    X = AveragePooling2D(pool_size=(2, 2), padding='same')(X)\n",
    "    \n",
    "    base_model = Model(inputs=X_input, outputs=X, name='ResNet50')\n",
    "    \n",
    "    headModel = base_model.output\n",
    "    headModel = Flatten()(headModel)\n",
    "    headModel=Dense(256, activation='relu', name='fc1',kernel_initializer=glorot_uniform(seed=0))(headModel)\n",
    "    headModel=Dense(128, activation='relu', name='fc2',kernel_initializer=glorot_uniform(seed=0))(headModel)\n",
    "    headModel = Dense( 1,activation='sigmoid', name='fc3',kernel_initializer=glorot_uniform(seed=0))(headModel)\n",
    "    model = Model(inputs=base_model.input, outputs=headModel)\n",
    "    opt = tf.keras.optimizers.Adam(learning_rate=0.001)\n",
    "    loss = tf.keras.losses.BinaryCrossentropy(label_smoothing=0.05) \n",
    "    model.compile(optimizer=opt,loss=loss,metrics=['AUC'])\n",
    "    \n",
    "    return model\n",
    "\n",
    "def build_InceptionV3(input_tensor=Input(shape=(224, 224, 3))):\n",
    "    base_model = InceptionV3(input_tensor=input_tensor, weights='imagenet', include_top=False)\n",
    "    x = base_model.output\n",
    "    x = GlobalAveragePooling2D()(x)\n",
    "    x = Dense(1024, activation='relu')(x)\n",
    "    x = Dense(128, activation='relu')(x)\n",
    "    #predictions = Dense(1, activation='sigmoid')(x)\n",
    "\n",
    "    model = Model(inputs=base_model.input, outputs=x)\n",
    "    opt = tf.keras.optimizers.Adam(learning_rate=0.001)\n",
    "    loss = tf.keras.losses.BinaryCrossentropy(label_smoothing=0.05) \n",
    "#     model.compile(optimizer=opt,loss=loss,metrics=['AUC'])\n",
    "    \n",
    "    return model\n",
    "\n",
    "def build_Xception(input_tensor=Input(shape=(224, 224, 3))):\n",
    "    base_model = tf.keras.applications.Xception(input_tensor=input_tensor,weights='imagenet',include_top=False)\n",
    "    x = base_model.output\n",
    "    x = GlobalAveragePooling2D()(x)\n",
    "    x = Dense(1024, activation='relu')(x)\n",
    "    predictions = Dense(1, activation='sigmoid')(x)\n",
    "\n",
    "    model = Model(inputs=base_model.input, outputs=predictions)\n",
    "    opt = tf.keras.optimizers.Adam(learning_rate=0.001)\n",
    "    loss = tf.keras.losses.BinaryCrossentropy(label_smoothing=0.05) \n",
    "    model.compile(optimizer=opt,loss=loss,metrics=['AUC'])\n",
    "    return model\n",
    "\n",
    "def build_DenseNet201(input_tensor=Input(shape=(224, 224, 3))):\n",
    "    base_model = tf.keras.applications.DenseNet201(input_tensor=input_tensor,weights='imagenet',include_top=False)\n",
    "    x = base_model.output\n",
    "    x = GlobalAveragePooling2D()(x)\n",
    "    x = Dense(1024, activation='relu')(x)\n",
    "    predictions = Dense(1, activation='sigmoid')(x)\n",
    "\n",
    "    model = Model(inputs=base_model.input, outputs=predictions)\n",
    "    opt = tf.keras.optimizers.Adam(learning_rate=0.001)\n",
    "    loss = tf.keras.losses.BinaryCrossentropy(label_smoothing=0.05) \n",
    "    model.compile(optimizer=opt,loss=loss,metrics=['AUC'])\n",
    "    return model\n",
    "\n",
    "def build_meta_data_model(input_shape=(3)):\n",
    "    X_input = Input(input_shape)\n",
    "    X = Dense(3,activation='relu')(X_input)\n",
    "    X = Dense(512,activation=None)(X)\n",
    "    X = BatchNormalization(axis=-1)(X)\n",
    "    X = tf.keras.activations.swish(X)\n",
    "    X = Dropout(0.2)(X)\n",
    "    X = Dense(512,activation='relu')(X)\n",
    "    X = Dense(256,activation=None)(X)\n",
    "    X = BatchNormalization(axis=-1)(X)\n",
    "    X = tf.keras.activations.swish(X)\n",
    "    predictions = Dense(128, activation='relu')(X)\n",
    "    opt = tf.keras.optimizers.Adam(learning_rate=0.001)\n",
    "    loss = tf.keras.losses.BinaryCrossentropy(label_smoothing=0.05) \n",
    "    model = Model(inputs=X_input, outputs=predictions)\n",
    "#     model.compile(optimizer=opt,loss=loss,metrics=['AUC'])\n",
    "    return model\n",
    "\n",
    "def build_join_fusion_model(input_shape=(256)):\n",
    "    X_input = Input(input_shape)\n",
    "    X = Dropout(0.3)(X_input)\n",
    "    predictions = Dense(1, activation='sigmoid')(X)\n",
    "    opt = tf.keras.optimizers.Adam(learning_rate=0.001)\n",
    "    loss = tf.keras.losses.BinaryCrossentropy(label_smoothing=0.05) \n",
    "    model = Model(inputs=X_input, outputs=predictions, name='linear_meta')\n",
    "    model.compile(optimizer=opt,loss=loss,metrics=['AUC'])\n",
    "    return model"
   ]
  },
  {
   "cell_type": "markdown",
   "id": "322bac8d",
   "metadata": {
    "papermill": {
     "duration": 0.02296,
     "end_time": "2022-02-27T19:27:13.997890",
     "exception": false,
     "start_time": "2022-02-27T19:27:13.974930",
     "status": "completed"
    },
    "tags": []
   },
   "source": [
    "# Step 4: Train Schedule\n",
    "This is a common train schedule for transfer learning. The learning rate starts near zero, then increases to a maximum, then decays over time. "
   ]
  },
  {
   "cell_type": "code",
   "execution_count": 13,
   "id": "08b4bf0e",
   "metadata": {
    "execution": {
     "iopub.execute_input": "2022-02-27T19:27:14.052711Z",
     "iopub.status.busy": "2022-02-27T19:27:14.052008Z",
     "iopub.status.idle": "2022-02-27T19:27:14.053771Z",
     "shell.execute_reply": "2022-02-27T19:27:14.054333Z",
     "shell.execute_reply.started": "2022-02-27T19:09:59.2783Z"
    },
    "papermill": {
     "duration": 0.0332,
     "end_time": "2022-02-27T19:27:14.054531",
     "exception": false,
     "start_time": "2022-02-27T19:27:14.021331",
     "status": "completed"
    },
    "tags": []
   },
   "outputs": [],
   "source": [
    "def get_lr_callback(batch_size=8):\n",
    "    lr_start   = 0.000005\n",
    "    lr_max     = 0.00000125 * REPLICAS * batch_size\n",
    "    lr_min     = 0.000001\n",
    "    lr_ramp_ep = 5\n",
    "    lr_sus_ep  = 0\n",
    "    lr_decay   = 0.8\n",
    "   \n",
    "    def lrfn(epoch):\n",
    "        if epoch < lr_ramp_ep:\n",
    "            lr = (lr_max - lr_start) / lr_ramp_ep * epoch + lr_start\n",
    "            \n",
    "        elif epoch < lr_ramp_ep + lr_sus_ep:\n",
    "            lr = lr_max\n",
    "            \n",
    "        else:\n",
    "            lr = (lr_max - lr_min) * lr_decay**(epoch - lr_ramp_ep - lr_sus_ep) + lr_min\n",
    "            \n",
    "        return lr\n",
    "\n",
    "    lr_callback = tf.keras.callbacks.LearningRateScheduler(lrfn, verbose=False)\n",
    "    return lr_callback"
   ]
  },
  {
   "cell_type": "code",
   "execution_count": 14,
   "id": "18e3576b",
   "metadata": {
    "execution": {
     "iopub.execute_input": "2022-02-27T19:27:14.105237Z",
     "iopub.status.busy": "2022-02-27T19:27:14.104550Z",
     "iopub.status.idle": "2022-02-27T19:27:14.114291Z",
     "shell.execute_reply": "2022-02-27T19:27:14.114854Z",
     "shell.execute_reply.started": "2022-02-27T19:09:59.291104Z"
    },
    "papermill": {
     "duration": 0.037696,
     "end_time": "2022-02-27T19:27:14.115053",
     "exception": false,
     "start_time": "2022-02-27T19:27:14.077357",
     "status": "completed"
    },
    "tags": []
   },
   "outputs": [],
   "source": [
    "def FUSEDModel(dim):\n",
    "    image_input = Input(shape=(dim, dim, 3))\n",
    "    base = efn.EfficientNetB6(input_shape=(dim,dim,3),weights='imagenet',include_top=False)\n",
    "    x = base(image_input)\n",
    "    x = GlobalAveragePooling2D()(x)\n",
    "    image_model = Dense(256, activation='relu')(x)\n",
    "    \n",
    "    caption_input = Input(shape=(3,))\n",
    "    # mask_zero: We zero pad inputs to the same length, the zero mask ignores those inputs. E.g. it is an efficiency.\n",
    "    X = Dense(3,activation=None)(caption_input)\n",
    "    X = Dense(512,activation=\"swish\")(X)\n",
    "    X = BatchNormalization(axis=-1)(X)\n",
    "    X = Dropout(0.3)(X)\n",
    "    X = Dense(512,activation=None)(X)\n",
    "    X = Dense(256,activation=\"swish\")(X)\n",
    "    predictions = BatchNormalization(axis=-1)(X)\n",
    "    #predictions = Dense(256, activation='relu')(X)\n",
    "\n",
    "    # Merging the models and creating a softmax classifier\n",
    "    final_model_1 = concatenate([image_model, predictions])\n",
    "    final_model_2 = Dense(512, activation='relu')(final_model_1)\n",
    "    final_model = Dense(1, activation='sigmoid')(final_model_2)\n",
    "\n",
    "    model = Model(inputs=[image_input, caption_input], outputs=final_model)\n",
    "    model.compile(loss='binary_crossentropy', optimizer='adam',metrics=['AUC'])\n",
    "    return model "
   ]
  },
  {
   "cell_type": "markdown",
   "id": "a7b49034",
   "metadata": {
    "papermill": {
     "duration": 0.022662,
     "end_time": "2022-02-27T19:27:14.160694",
     "exception": false,
     "start_time": "2022-02-27T19:27:14.138032",
     "status": "completed"
    },
    "tags": []
   },
   "source": [
    "## Joint Fushion Model\n",
    "The model will be trained for the number of FOLDS and EPOCHS you chose in the configuration above."
   ]
  },
  {
   "cell_type": "code",
   "execution_count": 15,
   "id": "09ba0728",
   "metadata": {
    "execution": {
     "iopub.execute_input": "2022-02-27T19:27:14.211129Z",
     "iopub.status.busy": "2022-02-27T19:27:14.210391Z",
     "iopub.status.idle": "2022-02-27T22:08:43.908942Z",
     "shell.execute_reply": "2022-02-27T22:08:43.907149Z"
    },
    "papermill": {
     "duration": 9689.724374,
     "end_time": "2022-02-27T22:08:43.909142",
     "exception": false,
     "start_time": "2022-02-27T19:27:14.184768",
     "status": "completed"
    },
    "tags": []
   },
   "outputs": [
    {
     "name": "stdout",
     "output_type": "stream",
     "text": [
      "#########################\n",
      "#### FOLD 1\n"
     ]
    },
    {
     "name": "stderr",
     "output_type": "stream",
     "text": [
      "2022-02-27 19:27:22.952047: I tensorflow/core/platform/cloud/google_auth_provider.cc:180] Attempting an empty bearer token since no token was retrieved from files, and GCE metadata check was skipped.\n",
      "2022-02-27 19:27:23.019645: I tensorflow/core/platform/cloud/google_auth_provider.cc:180] Attempting an empty bearer token since no token was retrieved from files, and GCE metadata check was skipped.\n",
      "2022-02-27 19:27:23.091895: I tensorflow/core/platform/cloud/google_auth_provider.cc:180] Attempting an empty bearer token since no token was retrieved from files, and GCE metadata check was skipped.\n",
      "2022-02-27 19:27:23.156644: I tensorflow/core/platform/cloud/google_auth_provider.cc:180] Attempting an empty bearer token since no token was retrieved from files, and GCE metadata check was skipped.\n",
      "2022-02-27 19:27:23.222501: I tensorflow/core/platform/cloud/google_auth_provider.cc:180] Attempting an empty bearer token since no token was retrieved from files, and GCE metadata check was skipped.\n",
      "2022-02-27 19:27:23.287099: I tensorflow/core/platform/cloud/google_auth_provider.cc:180] Attempting an empty bearer token since no token was retrieved from files, and GCE metadata check was skipped.\n",
      "2022-02-27 19:27:23.352299: I tensorflow/core/platform/cloud/google_auth_provider.cc:180] Attempting an empty bearer token since no token was retrieved from files, and GCE metadata check was skipped.\n",
      "2022-02-27 19:27:23.421009: I tensorflow/core/platform/cloud/google_auth_provider.cc:180] Attempting an empty bearer token since no token was retrieved from files, and GCE metadata check was skipped.\n",
      "2022-02-27 19:27:23.485586: I tensorflow/core/platform/cloud/google_auth_provider.cc:180] Attempting an empty bearer token since no token was retrieved from files, and GCE metadata check was skipped.\n",
      "2022-02-27 19:27:23.556083: I tensorflow/core/platform/cloud/google_auth_provider.cc:180] Attempting an empty bearer token since no token was retrieved from files, and GCE metadata check was skipped.\n",
      "2022-02-27 19:27:23.623001: I tensorflow/core/platform/cloud/google_auth_provider.cc:180] Attempting an empty bearer token since no token was retrieved from files, and GCE metadata check was skipped.\n",
      "2022-02-27 19:27:23.687491: I tensorflow/core/platform/cloud/google_auth_provider.cc:180] Attempting an empty bearer token since no token was retrieved from files, and GCE metadata check was skipped.\n",
      "2022-02-27 19:27:23.752564: I tensorflow/core/platform/cloud/google_auth_provider.cc:180] Attempting an empty bearer token since no token was retrieved from files, and GCE metadata check was skipped.\n",
      "2022-02-27 19:27:23.825091: I tensorflow/core/platform/cloud/google_auth_provider.cc:180] Attempting an empty bearer token since no token was retrieved from files, and GCE metadata check was skipped.\n",
      "2022-02-27 19:27:23.894938: I tensorflow/core/platform/cloud/google_auth_provider.cc:180] Attempting an empty bearer token since no token was retrieved from files, and GCE metadata check was skipped.\n",
      "2022-02-27 19:27:23.969734: I tensorflow/core/platform/cloud/google_auth_provider.cc:180] Attempting an empty bearer token since no token was retrieved from files, and GCE metadata check was skipped.\n",
      "2022-02-27 19:27:24.042434: I tensorflow/core/platform/cloud/google_auth_provider.cc:180] Attempting an empty bearer token since no token was retrieved from files, and GCE metadata check was skipped.\n",
      "2022-02-27 19:27:24.114822: I tensorflow/core/platform/cloud/google_auth_provider.cc:180] Attempting an empty bearer token since no token was retrieved from files, and GCE metadata check was skipped.\n",
      "2022-02-27 19:27:24.285216: I tensorflow/core/platform/cloud/google_auth_provider.cc:180] Attempting an empty bearer token since no token was retrieved from files, and GCE metadata check was skipped.\n",
      "2022-02-27 19:27:24.362934: I tensorflow/core/platform/cloud/google_auth_provider.cc:180] Attempting an empty bearer token since no token was retrieved from files, and GCE metadata check was skipped.\n",
      "2022-02-27 19:27:24.434513: I tensorflow/core/platform/cloud/google_auth_provider.cc:180] Attempting an empty bearer token since no token was retrieved from files, and GCE metadata check was skipped.\n",
      "2022-02-27 19:27:24.506685: I tensorflow/core/platform/cloud/google_auth_provider.cc:180] Attempting an empty bearer token since no token was retrieved from files, and GCE metadata check was skipped.\n",
      "2022-02-27 19:27:24.578936: I tensorflow/core/platform/cloud/google_auth_provider.cc:180] Attempting an empty bearer token since no token was retrieved from files, and GCE metadata check was skipped.\n",
      "2022-02-27 19:27:24.641560: I tensorflow/core/platform/cloud/google_auth_provider.cc:180] Attempting an empty bearer token since no token was retrieved from files, and GCE metadata check was skipped.\n",
      "2022-02-27 19:27:24.707888: I tensorflow/core/platform/cloud/google_auth_provider.cc:180] Attempting an empty bearer token since no token was retrieved from files, and GCE metadata check was skipped.\n",
      "2022-02-27 19:27:24.774109: I tensorflow/core/platform/cloud/google_auth_provider.cc:180] Attempting an empty bearer token since no token was retrieved from files, and GCE metadata check was skipped.\n"
     ]
    },
    {
     "name": "stdout",
     "output_type": "stream",
     "text": [
      "#### Using 2018+2017 external data\n",
      "#########################\n"
     ]
    },
    {
     "name": "stderr",
     "output_type": "stream",
     "text": [
      "2022-02-27 19:27:24.840782: I tensorflow/core/platform/cloud/google_auth_provider.cc:180] Attempting an empty bearer token since no token was retrieved from files, and GCE metadata check was skipped.\n",
      "2022-02-27 19:27:24.905601: I tensorflow/core/platform/cloud/google_auth_provider.cc:180] Attempting an empty bearer token since no token was retrieved from files, and GCE metadata check was skipped.\n"
     ]
    },
    {
     "name": "stdout",
     "output_type": "stream",
     "text": [
      "Downloading data from https://github.com/Callidior/keras-applications/releases/download/efficientnet/efficientnet-b6_weights_tf_dim_ordering_tf_kernels_autoaugment_notop.h5\n",
      "165527552/165527152 [==============================] - 2s 0us/step\n",
      "Training...\n",
      "<PrefetchDataset shapes: (((None, 384, 384, 3), (None, 3)), (None,)), types: ((tf.float32, tf.int64), tf.int64)>\n",
      "<PrefetchDataset shapes: (((None, 384, 384, 3), (None, 3)), (None,)), types: ((tf.float32, tf.int64), tf.int64)>\n",
      "Model: \"model\"\n",
      "__________________________________________________________________________________________________\n",
      "Layer (type)                    Output Shape         Param #     Connected to                     \n",
      "==================================================================================================\n",
      "input_3 (InputLayer)            [(None, 3)]          0                                            \n",
      "__________________________________________________________________________________________________\n",
      "dense_1 (Dense)                 (None, 3)            12          input_3[0][0]                    \n",
      "__________________________________________________________________________________________________\n",
      "dense_2 (Dense)                 (None, 512)          2048        dense_1[0][0]                    \n",
      "__________________________________________________________________________________________________\n",
      "batch_normalization (BatchNorma (None, 512)          2048        dense_2[0][0]                    \n",
      "__________________________________________________________________________________________________\n",
      "input_1 (InputLayer)            [(None, 384, 384, 3) 0                                            \n",
      "__________________________________________________________________________________________________\n",
      "dropout (Dropout)               (None, 512)          0           batch_normalization[0][0]        \n",
      "__________________________________________________________________________________________________\n",
      "efficientnet-b6 (Functional)    (None, 12, 12, 2304) 40960136    input_1[0][0]                    \n",
      "__________________________________________________________________________________________________\n",
      "dense_3 (Dense)                 (None, 512)          262656      dropout[0][0]                    \n",
      "__________________________________________________________________________________________________\n",
      "global_average_pooling2d (Globa (None, 2304)         0           efficientnet-b6[0][0]            \n",
      "__________________________________________________________________________________________________\n",
      "dense_4 (Dense)                 (None, 256)          131328      dense_3[0][0]                    \n",
      "__________________________________________________________________________________________________\n",
      "dense (Dense)                   (None, 256)          590080      global_average_pooling2d[0][0]   \n",
      "__________________________________________________________________________________________________\n",
      "batch_normalization_1 (BatchNor (None, 256)          1024        dense_4[0][0]                    \n",
      "__________________________________________________________________________________________________\n",
      "concatenate (Concatenate)       (None, 512)          0           dense[0][0]                      \n",
      "                                                                 batch_normalization_1[0][0]      \n",
      "__________________________________________________________________________________________________\n",
      "dense_5 (Dense)                 (None, 512)          262656      concatenate[0][0]                \n",
      "__________________________________________________________________________________________________\n",
      "dense_6 (Dense)                 (None, 1)            513         dense_5[0][0]                    \n",
      "==================================================================================================\n",
      "Total params: 42,212,501\n",
      "Trainable params: 41,986,533\n",
      "Non-trainable params: 225,968\n",
      "__________________________________________________________________________________________________\n",
      "None\n",
      "Epoch 1/13\n",
      "142/142 [==============================] - 302s 1s/step - loss: 0.3895 - auc: 0.5556 - val_loss: 0.2746 - val_auc: 0.3529\n"
     ]
    },
    {
     "name": "stderr",
     "output_type": "stream",
     "text": [
      "2022-02-27 19:33:06.543836: W ./tensorflow/core/distributed_runtime/eager/destroy_tensor_handle_node.h:57] Ignoring an error encountered when deleting remote tensors handles: Invalid argument: Unable to find the relevant tensor remote_handle: Op ID: 75526, Output num: 1\n",
      "Additional GRPC error information from remote target /job:worker/replica:0/task:0:\n",
      ":{\"created\":\"@1645990386.540502897\",\"description\":\"Error received from peer ipv4:10.0.0.2:8470\",\"file\":\"external/com_github_grpc_grpc/src/core/lib/surface/call.cc\",\"file_line\":1056,\"grpc_message\":\"Unable to find the relevant tensor remote_handle: Op ID: 75526, Output num: 1\",\"grpc_status\":3}\n"
     ]
    },
    {
     "name": "stdout",
     "output_type": "stream",
     "text": [
      "Epoch 2/13\n",
      "142/142 [==============================] - 119s 841ms/step - loss: 0.2089 - auc: 0.7451 - val_loss: 0.0799 - val_auc: 0.8470\n",
      "Epoch 3/13\n",
      "142/142 [==============================] - 120s 844ms/step - loss: 0.1718 - auc: 0.8661 - val_loss: 0.0661 - val_auc: 0.8828\n",
      "Epoch 4/13\n",
      "142/142 [==============================] - 120s 843ms/step - loss: 0.1553 - auc: 0.8946 - val_loss: 0.0638 - val_auc: 0.9040\n",
      "Epoch 5/13\n",
      "142/142 [==============================] - 120s 844ms/step - loss: 0.1466 - auc: 0.9062 - val_loss: 0.0634 - val_auc: 0.9103\n",
      "Epoch 6/13\n",
      "142/142 [==============================] - 120s 842ms/step - loss: 0.1373 - auc: 0.9127 - val_loss: 0.0644 - val_auc: 0.9106\n",
      "Epoch 7/13\n",
      "142/142 [==============================] - 120s 843ms/step - loss: 0.1259 - auc: 0.9313 - val_loss: 0.0642 - val_auc: 0.9140\n",
      "Epoch 8/13\n",
      "142/142 [==============================] - 120s 843ms/step - loss: 0.1162 - auc: 0.9413 - val_loss: 0.0638 - val_auc: 0.8887\n",
      "Epoch 9/13\n",
      "142/142 [==============================] - 120s 842ms/step - loss: 0.0970 - auc: 0.9562 - val_loss: 0.0650 - val_auc: 0.8715\n",
      "Epoch 10/13\n",
      "142/142 [==============================] - 120s 843ms/step - loss: 0.0896 - auc: 0.9646 - val_loss: 0.0659 - val_auc: 0.8736\n",
      "Epoch 11/13\n",
      "142/142 [==============================] - 120s 843ms/step - loss: 0.0821 - auc: 0.9738 - val_loss: 0.0687 - val_auc: 0.8611\n",
      "Epoch 12/13\n",
      "142/142 [==============================] - 120s 842ms/step - loss: 0.0734 - auc: 0.9775 - val_loss: 0.0703 - val_auc: 0.8662\n",
      "Epoch 13/13\n",
      "142/142 [==============================] - 120s 843ms/step - loss: 0.0664 - auc: 0.9807 - val_loss: 0.0714 - val_auc: 0.8432\n",
      "Predicting OOF with TTA...\n",
      "70/70 [==============================] - 100s 1s/step\n"
     ]
    },
    {
     "name": "stderr",
     "output_type": "stream",
     "text": [
      "2022-02-27 19:59:26.498187: W ./tensorflow/core/distributed_runtime/eager/destroy_tensor_handle_node.h:57] Ignoring an error encountered when deleting remote tensors handles: Invalid argument: Unable to find the relevant tensor remote_handle: Op ID: 162638, Output num: 2\n",
      "Additional GRPC error information from remote target /job:worker/replica:0/task:0:\n",
      ":{\"created\":\"@1645991966.497888138\",\"description\":\"Error received from peer ipv4:10.0.0.2:8470\",\"file\":\"external/com_github_grpc_grpc/src/core/lib/surface/call.cc\",\"file_line\":1056,\"grpc_message\":\"Unable to find the relevant tensor remote_handle: Op ID: 162638, Output num: 2\",\"grpc_status\":3}\n"
     ]
    },
    {
     "name": "stdout",
     "output_type": "stream",
     "text": [
      "#### FOLD 1 OOF AUC without TTA = 0.914, with TTA = 0.921\n"
     ]
    },
    {
     "data": {
      "image/png": "[encoded data removed]",
      "text/plain": [
       "<Figure size 1080x360 with 2 Axes>"
      ]
     },
     "metadata": {
      "needs_background": "light"
     },
     "output_type": "display_data"
    },
    {
     "name": "stdout",
     "output_type": "stream",
     "text": [
      "#########################\n",
      "#### FOLD 2\n"
     ]
    },
    {
     "name": "stderr",
     "output_type": "stream",
     "text": [
      "2022-02-27 19:59:45.649560: I tensorflow/core/platform/cloud/google_auth_provider.cc:180] Attempting an empty bearer token since no token was retrieved from files, and GCE metadata check was skipped.\n",
      "2022-02-27 19:59:45.717338: I tensorflow/core/platform/cloud/google_auth_provider.cc:180] Attempting an empty bearer token since no token was retrieved from files, and GCE metadata check was skipped.\n",
      "2022-02-27 19:59:45.791190: I tensorflow/core/platform/cloud/google_auth_provider.cc:180] Attempting an empty bearer token since no token was retrieved from files, and GCE metadata check was skipped.\n",
      "2022-02-27 19:59:45.861702: I tensorflow/core/platform/cloud/google_auth_provider.cc:180] Attempting an empty bearer token since no token was retrieved from files, and GCE metadata check was skipped.\n",
      "2022-02-27 19:59:45.931157: I tensorflow/core/platform/cloud/google_auth_provider.cc:180] Attempting an empty bearer token since no token was retrieved from files, and GCE metadata check was skipped.\n",
      "2022-02-27 19:59:45.998031: I tensorflow/core/platform/cloud/google_auth_provider.cc:180] Attempting an empty bearer token since no token was retrieved from files, and GCE metadata check was skipped.\n",
      "2022-02-27 19:59:46.067910: I tensorflow/core/platform/cloud/google_auth_provider.cc:180] Attempting an empty bearer token since no token was retrieved from files, and GCE metadata check was skipped.\n",
      "2022-02-27 19:59:46.132983: I tensorflow/core/platform/cloud/google_auth_provider.cc:180] Attempting an empty bearer token since no token was retrieved from files, and GCE metadata check was skipped.\n",
      "2022-02-27 19:59:46.205612: I tensorflow/core/platform/cloud/google_auth_provider.cc:180] Attempting an empty bearer token since no token was retrieved from files, and GCE metadata check was skipped.\n",
      "2022-02-27 19:59:46.278022: I tensorflow/core/platform/cloud/google_auth_provider.cc:180] Attempting an empty bearer token since no token was retrieved from files, and GCE metadata check was skipped.\n",
      "2022-02-27 19:59:46.344673: I tensorflow/core/platform/cloud/google_auth_provider.cc:180] Attempting an empty bearer token since no token was retrieved from files, and GCE metadata check was skipped.\n",
      "2022-02-27 19:59:46.421400: I tensorflow/core/platform/cloud/google_auth_provider.cc:180] Attempting an empty bearer token since no token was retrieved from files, and GCE metadata check was skipped.\n",
      "2022-02-27 19:59:46.491121: I tensorflow/core/platform/cloud/google_auth_provider.cc:180] Attempting an empty bearer token since no token was retrieved from files, and GCE metadata check was skipped.\n",
      "2022-02-27 19:59:46.597694: I tensorflow/core/platform/cloud/google_auth_provider.cc:180] Attempting an empty bearer token since no token was retrieved from files, and GCE metadata check was skipped.\n",
      "2022-02-27 19:59:46.666294: I tensorflow/core/platform/cloud/google_auth_provider.cc:180] Attempting an empty bearer token since no token was retrieved from files, and GCE metadata check was skipped.\n",
      "2022-02-27 19:59:46.736438: I tensorflow/core/platform/cloud/google_auth_provider.cc:180] Attempting an empty bearer token since no token was retrieved from files, and GCE metadata check was skipped.\n",
      "2022-02-27 19:59:46.811976: I tensorflow/core/platform/cloud/google_auth_provider.cc:180] Attempting an empty bearer token since no token was retrieved from files, and GCE metadata check was skipped.\n",
      "2022-02-27 19:59:46.879914: I tensorflow/core/platform/cloud/google_auth_provider.cc:180] Attempting an empty bearer token since no token was retrieved from files, and GCE metadata check was skipped.\n",
      "2022-02-27 19:59:46.952569: I tensorflow/core/platform/cloud/google_auth_provider.cc:180] Attempting an empty bearer token since no token was retrieved from files, and GCE metadata check was skipped.\n",
      "2022-02-27 19:59:47.022275: I tensorflow/core/platform/cloud/google_auth_provider.cc:180] Attempting an empty bearer token since no token was retrieved from files, and GCE metadata check was skipped.\n",
      "2022-02-27 19:59:47.093140: I tensorflow/core/platform/cloud/google_auth_provider.cc:180] Attempting an empty bearer token since no token was retrieved from files, and GCE metadata check was skipped.\n",
      "2022-02-27 19:59:47.210148: I tensorflow/core/platform/cloud/google_auth_provider.cc:180] Attempting an empty bearer token since no token was retrieved from files, and GCE metadata check was skipped.\n",
      "2022-02-27 19:59:47.279437: I tensorflow/core/platform/cloud/google_auth_provider.cc:180] Attempting an empty bearer token since no token was retrieved from files, and GCE metadata check was skipped.\n",
      "2022-02-27 19:59:47.349397: I tensorflow/core/platform/cloud/google_auth_provider.cc:180] Attempting an empty bearer token since no token was retrieved from files, and GCE metadata check was skipped.\n"
     ]
    },
    {
     "name": "stdout",
     "output_type": "stream",
     "text": [
      "#### Using 2018+2017 external data\n",
      "#########################\n"
     ]
    },
    {
     "name": "stderr",
     "output_type": "stream",
     "text": [
      "2022-02-27 19:59:47.416507: I tensorflow/core/platform/cloud/google_auth_provider.cc:180] Attempting an empty bearer token since no token was retrieved from files, and GCE metadata check was skipped.\n",
      "2022-02-27 19:59:47.483096: I tensorflow/core/platform/cloud/google_auth_provider.cc:180] Attempting an empty bearer token since no token was retrieved from files, and GCE metadata check was skipped.\n",
      "2022-02-27 19:59:47.552327: I tensorflow/core/platform/cloud/google_auth_provider.cc:180] Attempting an empty bearer token since no token was retrieved from files, and GCE metadata check was skipped.\n",
      "2022-02-27 19:59:47.621140: I tensorflow/core/platform/cloud/google_auth_provider.cc:180] Attempting an empty bearer token since no token was retrieved from files, and GCE metadata check was skipped.\n"
     ]
    },
    {
     "name": "stdout",
     "output_type": "stream",
     "text": [
      "Training...\n",
      "<PrefetchDataset shapes: (((None, 384, 384, 3), (None, 3)), (None,)), types: ((tf.float32, tf.int64), tf.int64)>\n",
      "<PrefetchDataset shapes: (((None, 384, 384, 3), (None, 3)), (None,)), types: ((tf.float32, tf.int64), tf.int64)>\n",
      "Model: \"model\"\n",
      "__________________________________________________________________________________________________\n",
      "Layer (type)                    Output Shape         Param #     Connected to                     \n",
      "==================================================================================================\n",
      "input_3 (InputLayer)            [(None, 3)]          0                                            \n",
      "__________________________________________________________________________________________________\n",
      "dense_1 (Dense)                 (None, 3)            12          input_3[0][0]                    \n",
      "__________________________________________________________________________________________________\n",
      "dense_2 (Dense)                 (None, 512)          2048        dense_1[0][0]                    \n",
      "__________________________________________________________________________________________________\n",
      "batch_normalization (BatchNorma (None, 512)          2048        dense_2[0][0]                    \n",
      "__________________________________________________________________________________________________\n",
      "input_1 (InputLayer)            [(None, 384, 384, 3) 0                                            \n",
      "__________________________________________________________________________________________________\n",
      "dropout (Dropout)               (None, 512)          0           batch_normalization[0][0]        \n",
      "__________________________________________________________________________________________________\n",
      "efficientnet-b6 (Functional)    (None, 12, 12, 2304) 40960136    input_1[0][0]                    \n",
      "__________________________________________________________________________________________________\n",
      "dense_3 (Dense)                 (None, 512)          262656      dropout[0][0]                    \n",
      "__________________________________________________________________________________________________\n",
      "global_average_pooling2d (Globa (None, 2304)         0           efficientnet-b6[0][0]            \n",
      "__________________________________________________________________________________________________\n",
      "dense_4 (Dense)                 (None, 256)          131328      dense_3[0][0]                    \n",
      "__________________________________________________________________________________________________\n",
      "dense (Dense)                   (None, 256)          590080      global_average_pooling2d[0][0]   \n",
      "__________________________________________________________________________________________________\n",
      "batch_normalization_1 (BatchNor (None, 256)          1024        dense_4[0][0]                    \n",
      "__________________________________________________________________________________________________\n",
      "concatenate (Concatenate)       (None, 512)          0           dense[0][0]                      \n",
      "                                                                 batch_normalization_1[0][0]      \n",
      "__________________________________________________________________________________________________\n",
      "dense_5 (Dense)                 (None, 512)          262656      concatenate[0][0]                \n",
      "__________________________________________________________________________________________________\n",
      "dense_6 (Dense)                 (None, 1)            513         dense_5[0][0]                    \n",
      "==================================================================================================\n",
      "Total params: 42,212,501\n",
      "Trainable params: 41,986,533\n",
      "Non-trainable params: 225,968\n",
      "__________________________________________________________________________________________________\n",
      "None\n",
      "Epoch 1/13\n",
      "142/142 [==============================] - 301s 1s/step - loss: 0.5280 - auc: 0.5856 - val_loss: 0.3977 - val_auc: 0.3599\n"
     ]
    },
    {
     "name": "stderr",
     "output_type": "stream",
     "text": [
      "2022-02-27 20:05:19.980577: W ./tensorflow/core/distributed_runtime/eager/destroy_tensor_handle_node.h:57] Ignoring an error encountered when deleting remote tensors handles: Invalid argument: Unable to find the relevant tensor remote_handle: Op ID: 251259, Output num: 0\n",
      "Additional GRPC error information from remote target /job:worker/replica:0/task:0:\n",
      ":{\"created\":\"@1645992319.980431723\",\"description\":\"Error received from peer ipv4:10.0.0.2:8470\",\"file\":\"external/com_github_grpc_grpc/src/core/lib/surface/call.cc\",\"file_line\":1056,\"grpc_message\":\"Unable to find the relevant tensor remote_handle: Op ID: 251259, Output num: 0\",\"grpc_status\":3}\n"
     ]
    },
    {
     "name": "stdout",
     "output_type": "stream",
     "text": [
      "Epoch 2/13\n",
      "142/142 [==============================] - 120s 845ms/step - loss: 0.2093 - auc: 0.7186 - val_loss: 0.0764 - val_auc: 0.8140\n",
      "Epoch 3/13\n",
      "142/142 [==============================] - 120s 844ms/step - loss: 0.1592 - auc: 0.8732 - val_loss: 0.0740 - val_auc: 0.8703\n",
      "Epoch 4/13\n",
      "142/142 [==============================] - 120s 844ms/step - loss: 0.1409 - auc: 0.9040 - val_loss: 0.0787 - val_auc: 0.8609\n",
      "Epoch 5/13\n",
      "142/142 [==============================] - 120s 845ms/step - loss: 0.1317 - auc: 0.9185 - val_loss: 0.0828 - val_auc: 0.8804\n",
      "Epoch 6/13\n",
      "142/142 [==============================] - 120s 844ms/step - loss: 0.1251 - auc: 0.9286 - val_loss: 0.0864 - val_auc: 0.8786\n",
      "Epoch 7/13\n",
      "142/142 [==============================] - 120s 844ms/step - loss: 0.1136 - auc: 0.9441 - val_loss: 0.0761 - val_auc: 0.8861\n",
      "Epoch 8/13\n",
      "142/142 [==============================] - 120s 842ms/step - loss: 0.1012 - auc: 0.9547 - val_loss: 0.0768 - val_auc: 0.8561\n",
      "Epoch 9/13\n",
      "142/142 [==============================] - 120s 843ms/step - loss: 0.0886 - auc: 0.9661 - val_loss: 0.0757 - val_auc: 0.8328\n",
      "Epoch 10/13\n",
      "142/142 [==============================] - 120s 844ms/step - loss: 0.0802 - auc: 0.9711 - val_loss: 0.0751 - val_auc: 0.8303\n",
      "Epoch 11/13\n",
      "142/142 [==============================] - 120s 844ms/step - loss: 0.0706 - auc: 0.9751 - val_loss: 0.0810 - val_auc: 0.8170\n",
      "Epoch 12/13\n",
      "142/142 [==============================] - 120s 844ms/step - loss: 0.0684 - auc: 0.9800 - val_loss: 0.0782 - val_auc: 0.8167\n",
      "Epoch 13/13\n",
      "142/142 [==============================] - 120s 845ms/step - loss: 0.0614 - auc: 0.9834 - val_loss: 0.0863 - val_auc: 0.8187\n",
      "Predicting OOF with TTA...\n",
      "70/70 [==============================] - 99s 1s/step\n"
     ]
    },
    {
     "name": "stderr",
     "output_type": "stream",
     "text": [
      "2022-02-27 20:31:33.443008: W ./tensorflow/core/distributed_runtime/eager/destroy_tensor_handle_node.h:57] Ignoring an error encountered when deleting remote tensors handles: Invalid argument: Unable to find the relevant tensor remote_handle: Op ID: 327039, Output num: 2\n",
      "Additional GRPC error information from remote target /job:worker/replica:0/task:0:\n",
      ":{\"created\":\"@1645993893.442850375\",\"description\":\"Error received from peer ipv4:10.0.0.2:8470\",\"file\":\"external/com_github_grpc_grpc/src/core/lib/surface/call.cc\",\"file_line\":1056,\"grpc_message\":\"Unable to find the relevant tensor remote_handle: Op ID: 327039, Output num: 2\",\"grpc_status\":3}\n"
     ]
    },
    {
     "name": "stdout",
     "output_type": "stream",
     "text": [
      "#### FOLD 2 OOF AUC without TTA = 0.886, with TTA = 0.888\n"
     ]
    },
    {
     "data": {
      "image/png": "[encoded data removed]",
      "text/plain": [
       "<Figure size 1080x360 with 2 Axes>"
      ]
     },
     "metadata": {
      "needs_background": "light"
     },
     "output_type": "display_data"
    },
    {
     "name": "stdout",
     "output_type": "stream",
     "text": [
      "#########################\n",
      "#### FOLD 3\n"
     ]
    },
    {
     "name": "stderr",
     "output_type": "stream",
     "text": [
      "2022-02-27 20:31:53.182921: I tensorflow/core/platform/cloud/google_auth_provider.cc:180] Attempting an empty bearer token since no token was retrieved from files, and GCE metadata check was skipped.\n",
      "2022-02-27 20:31:53.253408: I tensorflow/core/platform/cloud/google_auth_provider.cc:180] Attempting an empty bearer token since no token was retrieved from files, and GCE metadata check was skipped.\n",
      "2022-02-27 20:31:53.321510: I tensorflow/core/platform/cloud/google_auth_provider.cc:180] Attempting an empty bearer token since no token was retrieved from files, and GCE metadata check was skipped.\n",
      "2022-02-27 20:31:53.414162: I tensorflow/core/platform/cloud/google_auth_provider.cc:180] Attempting an empty bearer token since no token was retrieved from files, and GCE metadata check was skipped.\n",
      "2022-02-27 20:31:53.485327: I tensorflow/core/platform/cloud/google_auth_provider.cc:180] Attempting an empty bearer token since no token was retrieved from files, and GCE metadata check was skipped.\n",
      "2022-02-27 20:31:53.555844: I tensorflow/core/platform/cloud/google_auth_provider.cc:180] Attempting an empty bearer token since no token was retrieved from files, and GCE metadata check was skipped.\n",
      "2022-02-27 20:31:53.623176: I tensorflow/core/platform/cloud/google_auth_provider.cc:180] Attempting an empty bearer token since no token was retrieved from files, and GCE metadata check was skipped.\n",
      "2022-02-27 20:31:53.690978: I tensorflow/core/platform/cloud/google_auth_provider.cc:180] Attempting an empty bearer token since no token was retrieved from files, and GCE metadata check was skipped.\n",
      "2022-02-27 20:31:53.760398: I tensorflow/core/platform/cloud/google_auth_provider.cc:180] Attempting an empty bearer token since no token was retrieved from files, and GCE metadata check was skipped.\n",
      "2022-02-27 20:31:53.830502: I tensorflow/core/platform/cloud/google_auth_provider.cc:180] Attempting an empty bearer token since no token was retrieved from files, and GCE metadata check was skipped.\n",
      "2022-02-27 20:31:53.896826: I tensorflow/core/platform/cloud/google_auth_provider.cc:180] Attempting an empty bearer token since no token was retrieved from files, and GCE metadata check was skipped.\n",
      "2022-02-27 20:31:53.959758: I tensorflow/core/platform/cloud/google_auth_provider.cc:180] Attempting an empty bearer token since no token was retrieved from files, and GCE metadata check was skipped.\n",
      "2022-02-27 20:31:54.027835: I tensorflow/core/platform/cloud/google_auth_provider.cc:180] Attempting an empty bearer token since no token was retrieved from files, and GCE metadata check was skipped.\n",
      "2022-02-27 20:31:54.105063: I tensorflow/core/platform/cloud/google_auth_provider.cc:180] Attempting an empty bearer token since no token was retrieved from files, and GCE metadata check was skipped.\n",
      "2022-02-27 20:31:54.180049: I tensorflow/core/platform/cloud/google_auth_provider.cc:180] Attempting an empty bearer token since no token was retrieved from files, and GCE metadata check was skipped.\n",
      "2022-02-27 20:31:54.250977: I tensorflow/core/platform/cloud/google_auth_provider.cc:180] Attempting an empty bearer token since no token was retrieved from files, and GCE metadata check was skipped.\n",
      "2022-02-27 20:31:54.322397: I tensorflow/core/platform/cloud/google_auth_provider.cc:180] Attempting an empty bearer token since no token was retrieved from files, and GCE metadata check was skipped.\n",
      "2022-02-27 20:31:54.395103: I tensorflow/core/platform/cloud/google_auth_provider.cc:180] Attempting an empty bearer token since no token was retrieved from files, and GCE metadata check was skipped.\n",
      "2022-02-27 20:31:54.465878: I tensorflow/core/platform/cloud/google_auth_provider.cc:180] Attempting an empty bearer token since no token was retrieved from files, and GCE metadata check was skipped.\n",
      "2022-02-27 20:31:54.535027: I tensorflow/core/platform/cloud/google_auth_provider.cc:180] Attempting an empty bearer token since no token was retrieved from files, and GCE metadata check was skipped.\n",
      "2022-02-27 20:31:54.607163: I tensorflow/core/platform/cloud/google_auth_provider.cc:180] Attempting an empty bearer token since no token was retrieved from files, and GCE metadata check was skipped.\n",
      "2022-02-27 20:31:54.677107: I tensorflow/core/platform/cloud/google_auth_provider.cc:180] Attempting an empty bearer token since no token was retrieved from files, and GCE metadata check was skipped.\n",
      "2022-02-27 20:31:54.747561: I tensorflow/core/platform/cloud/google_auth_provider.cc:180] Attempting an empty bearer token since no token was retrieved from files, and GCE metadata check was skipped.\n",
      "2022-02-27 20:31:54.827722: I tensorflow/core/platform/cloud/google_auth_provider.cc:180] Attempting an empty bearer token since no token was retrieved from files, and GCE metadata check was skipped.\n",
      "2022-02-27 20:31:54.901525: I tensorflow/core/platform/cloud/google_auth_provider.cc:180] Attempting an empty bearer token since no token was retrieved from files, and GCE metadata check was skipped.\n"
     ]
    },
    {
     "name": "stdout",
     "output_type": "stream",
     "text": [
      "#### Using 2018+2017 external data\n",
      "#########################\n"
     ]
    },
    {
     "name": "stderr",
     "output_type": "stream",
     "text": [
      "2022-02-27 20:31:54.973167: I tensorflow/core/platform/cloud/google_auth_provider.cc:180] Attempting an empty bearer token since no token was retrieved from files, and GCE metadata check was skipped.\n",
      "2022-02-27 20:31:55.044573: I tensorflow/core/platform/cloud/google_auth_provider.cc:180] Attempting an empty bearer token since no token was retrieved from files, and GCE metadata check was skipped.\n",
      "2022-02-27 20:31:55.109345: I tensorflow/core/platform/cloud/google_auth_provider.cc:180] Attempting an empty bearer token since no token was retrieved from files, and GCE metadata check was skipped.\n"
     ]
    },
    {
     "name": "stdout",
     "output_type": "stream",
     "text": [
      "Training...\n",
      "<PrefetchDataset shapes: (((None, 384, 384, 3), (None, 3)), (None,)), types: ((tf.float32, tf.int64), tf.int64)>\n",
      "<PrefetchDataset shapes: (((None, 384, 384, 3), (None, 3)), (None,)), types: ((tf.float32, tf.int64), tf.int64)>\n",
      "Model: \"model\"\n",
      "__________________________________________________________________________________________________\n",
      "Layer (type)                    Output Shape         Param #     Connected to                     \n",
      "==================================================================================================\n",
      "input_3 (InputLayer)            [(None, 3)]          0                                            \n",
      "__________________________________________________________________________________________________\n",
      "dense_1 (Dense)                 (None, 3)            12          input_3[0][0]                    \n",
      "__________________________________________________________________________________________________\n",
      "dense_2 (Dense)                 (None, 512)          2048        dense_1[0][0]                    \n",
      "__________________________________________________________________________________________________\n",
      "batch_normalization (BatchNorma (None, 512)          2048        dense_2[0][0]                    \n",
      "__________________________________________________________________________________________________\n",
      "input_1 (InputLayer)            [(None, 384, 384, 3) 0                                            \n",
      "__________________________________________________________________________________________________\n",
      "dropout (Dropout)               (None, 512)          0           batch_normalization[0][0]        \n",
      "__________________________________________________________________________________________________\n",
      "efficientnet-b6 (Functional)    (None, 12, 12, 2304) 40960136    input_1[0][0]                    \n",
      "__________________________________________________________________________________________________\n",
      "dense_3 (Dense)                 (None, 512)          262656      dropout[0][0]                    \n",
      "__________________________________________________________________________________________________\n",
      "global_average_pooling2d (Globa (None, 2304)         0           efficientnet-b6[0][0]            \n",
      "__________________________________________________________________________________________________\n",
      "dense_4 (Dense)                 (None, 256)          131328      dense_3[0][0]                    \n",
      "__________________________________________________________________________________________________\n",
      "dense (Dense)                   (None, 256)          590080      global_average_pooling2d[0][0]   \n",
      "__________________________________________________________________________________________________\n",
      "batch_normalization_1 (BatchNor (None, 256)          1024        dense_4[0][0]                    \n",
      "__________________________________________________________________________________________________\n",
      "concatenate (Concatenate)       (None, 512)          0           dense[0][0]                      \n",
      "                                                                 batch_normalization_1[0][0]      \n",
      "__________________________________________________________________________________________________\n",
      "dense_5 (Dense)                 (None, 512)          262656      concatenate[0][0]                \n",
      "__________________________________________________________________________________________________\n",
      "dense_6 (Dense)                 (None, 1)            513         dense_5[0][0]                    \n",
      "==================================================================================================\n",
      "Total params: 42,212,501\n",
      "Trainable params: 41,986,533\n",
      "Non-trainable params: 225,968\n",
      "__________________________________________________________________________________________________\n",
      "None\n",
      "Epoch 1/13\n",
      "142/142 [==============================] - 292s 941ms/step - loss: 0.7615 - auc: 0.6218 - val_loss: 0.4878 - val_auc: 0.3779\n"
     ]
    },
    {
     "name": "stderr",
     "output_type": "stream",
     "text": [
      "2022-02-27 20:37:24.954848: W ./tensorflow/core/distributed_runtime/eager/destroy_tensor_handle_node.h:57] Ignoring an error encountered when deleting remote tensors handles: Invalid argument: Unable to find the relevant tensor remote_handle: Op ID: 432376, Output num: 1\n",
      "Additional GRPC error information from remote target /job:worker/replica:0/task:0:\n",
      ":{\"created\":\"@1645994244.953834218\",\"description\":\"Error received from peer ipv4:10.0.0.2:8470\",\"file\":\"external/com_github_grpc_grpc/src/core/lib/surface/call.cc\",\"file_line\":1056,\"grpc_message\":\"Unable to find the relevant tensor remote_handle: Op ID: 432376, Output num: 1\",\"grpc_status\":3}\n"
     ]
    },
    {
     "name": "stdout",
     "output_type": "stream",
     "text": [
      "Epoch 2/13\n",
      "142/142 [==============================] - 120s 844ms/step - loss: 0.2449 - auc: 0.6915 - val_loss: 0.0805 - val_auc: 0.7845\n",
      "Epoch 3/13\n",
      "142/142 [==============================] - 120s 845ms/step - loss: 0.1972 - auc: 0.8434 - val_loss: 0.0702 - val_auc: 0.8918\n",
      "Epoch 4/13\n",
      "142/142 [==============================] - 120s 846ms/step - loss: 0.1778 - auc: 0.8744 - val_loss: 0.0634 - val_auc: 0.9173\n",
      "Epoch 5/13\n",
      "142/142 [==============================] - 120s 844ms/step - loss: 0.1653 - auc: 0.8949 - val_loss: 0.0615 - val_auc: 0.9128\n",
      "Epoch 6/13\n",
      "142/142 [==============================] - 120s 845ms/step - loss: 0.1484 - auc: 0.9163 - val_loss: 0.0629 - val_auc: 0.8921\n",
      "Epoch 7/13\n",
      "142/142 [==============================] - 120s 844ms/step - loss: 0.1390 - auc: 0.9289 - val_loss: 0.0673 - val_auc: 0.8984\n",
      "Epoch 8/13\n",
      "142/142 [==============================] - 120s 844ms/step - loss: 0.1343 - auc: 0.9321 - val_loss: 0.0606 - val_auc: 0.9090\n",
      "Epoch 9/13\n",
      "142/142 [==============================] - 120s 846ms/step - loss: 0.1216 - auc: 0.9465 - val_loss: 0.0601 - val_auc: 0.9081\n",
      "Epoch 10/13\n",
      "142/142 [==============================] - 120s 845ms/step - loss: 0.1092 - auc: 0.9584 - val_loss: 0.0670 - val_auc: 0.8762\n",
      "Epoch 11/13\n",
      "142/142 [==============================] - 120s 844ms/step - loss: 0.1002 - auc: 0.9663 - val_loss: 0.0749 - val_auc: 0.8065\n",
      "Epoch 12/13\n",
      "142/142 [==============================] - 120s 845ms/step - loss: 0.0864 - auc: 0.9731 - val_loss: 0.0658 - val_auc: 0.8730\n",
      "Epoch 13/13\n",
      "142/142 [==============================] - 120s 845ms/step - loss: 0.0762 - auc: 0.9799 - val_loss: 0.0690 - val_auc: 0.8605\n",
      "Predicting OOF with TTA...\n",
      "70/70 [==============================] - 98s 1s/step\n"
     ]
    },
    {
     "name": "stderr",
     "output_type": "stream",
     "text": [
      "2022-02-27 21:03:54.796829: W ./tensorflow/core/distributed_runtime/eager/destroy_tensor_handle_node.h:57] Ignoring an error encountered when deleting remote tensors handles: Invalid argument: Unable to find the relevant tensor remote_handle: Op ID: 530848, Output num: 2\n",
      "Additional GRPC error information from remote target /job:worker/replica:0/task:0:\n",
      ":{\"created\":\"@1645995834.796641149\",\"description\":\"Error received from peer ipv4:10.0.0.2:8470\",\"file\":\"external/com_github_grpc_grpc/src/core/lib/surface/call.cc\",\"file_line\":1056,\"grpc_message\":\"Unable to find the relevant tensor remote_handle: Op ID: 530848, Output num: 2\",\"grpc_status\":3}\n"
     ]
    },
    {
     "name": "stdout",
     "output_type": "stream",
     "text": [
      "#### FOLD 3 OOF AUC without TTA = 0.917, with TTA = 0.944\n"
     ]
    },
    {
     "data": {
      "image/png": "[encoded data removed]",
      "text/plain": [
       "<Figure size 1080x360 with 2 Axes>"
      ]
     },
     "metadata": {
      "needs_background": "light"
     },
     "output_type": "display_data"
    },
    {
     "name": "stdout",
     "output_type": "stream",
     "text": [
      "#########################\n",
      "#### FOLD 4\n"
     ]
    },
    {
     "name": "stderr",
     "output_type": "stream",
     "text": [
      "2022-02-27 21:04:15.249646: I tensorflow/core/platform/cloud/google_auth_provider.cc:180] Attempting an empty bearer token since no token was retrieved from files, and GCE metadata check was skipped.\n",
      "2022-02-27 21:04:15.318511: I tensorflow/core/platform/cloud/google_auth_provider.cc:180] Attempting an empty bearer token since no token was retrieved from files, and GCE metadata check was skipped.\n",
      "2022-02-27 21:04:15.387789: I tensorflow/core/platform/cloud/google_auth_provider.cc:180] Attempting an empty bearer token since no token was retrieved from files, and GCE metadata check was skipped.\n",
      "2022-02-27 21:04:15.458726: I tensorflow/core/platform/cloud/google_auth_provider.cc:180] Attempting an empty bearer token since no token was retrieved from files, and GCE metadata check was skipped.\n",
      "2022-02-27 21:04:15.523757: I tensorflow/core/platform/cloud/google_auth_provider.cc:180] Attempting an empty bearer token since no token was retrieved from files, and GCE metadata check was skipped.\n",
      "2022-02-27 21:04:15.590288: I tensorflow/core/platform/cloud/google_auth_provider.cc:180] Attempting an empty bearer token since no token was retrieved from files, and GCE metadata check was skipped.\n",
      "2022-02-27 21:04:15.659455: I tensorflow/core/platform/cloud/google_auth_provider.cc:180] Attempting an empty bearer token since no token was retrieved from files, and GCE metadata check was skipped.\n",
      "2022-02-27 21:04:15.723788: I tensorflow/core/platform/cloud/google_auth_provider.cc:180] Attempting an empty bearer token since no token was retrieved from files, and GCE metadata check was skipped.\n",
      "2022-02-27 21:04:15.788770: I tensorflow/core/platform/cloud/google_auth_provider.cc:180] Attempting an empty bearer token since no token was retrieved from files, and GCE metadata check was skipped.\n",
      "2022-02-27 21:04:15.851268: I tensorflow/core/platform/cloud/google_auth_provider.cc:180] Attempting an empty bearer token since no token was retrieved from files, and GCE metadata check was skipped.\n",
      "2022-02-27 21:04:15.918186: I tensorflow/core/platform/cloud/google_auth_provider.cc:180] Attempting an empty bearer token since no token was retrieved from files, and GCE metadata check was skipped.\n",
      "2022-02-27 21:04:16.015872: I tensorflow/core/platform/cloud/google_auth_provider.cc:180] Attempting an empty bearer token since no token was retrieved from files, and GCE metadata check was skipped.\n",
      "2022-02-27 21:04:16.077235: I tensorflow/core/platform/cloud/google_auth_provider.cc:180] Attempting an empty bearer token since no token was retrieved from files, and GCE metadata check was skipped.\n",
      "2022-02-27 21:04:16.150279: I tensorflow/core/platform/cloud/google_auth_provider.cc:180] Attempting an empty bearer token since no token was retrieved from files, and GCE metadata check was skipped.\n",
      "2022-02-27 21:04:16.222557: I tensorflow/core/platform/cloud/google_auth_provider.cc:180] Attempting an empty bearer token since no token was retrieved from files, and GCE metadata check was skipped.\n",
      "2022-02-27 21:04:16.291779: I tensorflow/core/platform/cloud/google_auth_provider.cc:180] Attempting an empty bearer token since no token was retrieved from files, and GCE metadata check was skipped.\n",
      "2022-02-27 21:04:16.362691: I tensorflow/core/platform/cloud/google_auth_provider.cc:180] Attempting an empty bearer token since no token was retrieved from files, and GCE metadata check was skipped.\n",
      "2022-02-27 21:04:16.431665: I tensorflow/core/platform/cloud/google_auth_provider.cc:180] Attempting an empty bearer token since no token was retrieved from files, and GCE metadata check was skipped.\n",
      "2022-02-27 21:04:16.503886: I tensorflow/core/platform/cloud/google_auth_provider.cc:180] Attempting an empty bearer token since no token was retrieved from files, and GCE metadata check was skipped.\n",
      "2022-02-27 21:04:16.575549: I tensorflow/core/platform/cloud/google_auth_provider.cc:180] Attempting an empty bearer token since no token was retrieved from files, and GCE metadata check was skipped.\n",
      "2022-02-27 21:04:16.643288: I tensorflow/core/platform/cloud/google_auth_provider.cc:180] Attempting an empty bearer token since no token was retrieved from files, and GCE metadata check was skipped.\n",
      "2022-02-27 21:04:16.710265: I tensorflow/core/platform/cloud/google_auth_provider.cc:180] Attempting an empty bearer token since no token was retrieved from files, and GCE metadata check was skipped.\n",
      "2022-02-27 21:04:16.778419: I tensorflow/core/platform/cloud/google_auth_provider.cc:180] Attempting an empty bearer token since no token was retrieved from files, and GCE metadata check was skipped.\n",
      "2022-02-27 21:04:16.857777: I tensorflow/core/platform/cloud/google_auth_provider.cc:180] Attempting an empty bearer token since no token was retrieved from files, and GCE metadata check was skipped.\n",
      "2022-02-27 21:04:16.924944: I tensorflow/core/platform/cloud/google_auth_provider.cc:180] Attempting an empty bearer token since no token was retrieved from files, and GCE metadata check was skipped.\n",
      "2022-02-27 21:04:16.997735: I tensorflow/core/platform/cloud/google_auth_provider.cc:180] Attempting an empty bearer token since no token was retrieved from files, and GCE metadata check was skipped.\n"
     ]
    },
    {
     "name": "stdout",
     "output_type": "stream",
     "text": [
      "#### Using 2018+2017 external data\n",
      "#########################\n"
     ]
    },
    {
     "name": "stderr",
     "output_type": "stream",
     "text": [
      "2022-02-27 21:04:17.073759: I tensorflow/core/platform/cloud/google_auth_provider.cc:180] Attempting an empty bearer token since no token was retrieved from files, and GCE metadata check was skipped.\n",
      "2022-02-27 21:04:17.142548: I tensorflow/core/platform/cloud/google_auth_provider.cc:180] Attempting an empty bearer token since no token was retrieved from files, and GCE metadata check was skipped.\n"
     ]
    },
    {
     "name": "stdout",
     "output_type": "stream",
     "text": [
      "Training...\n",
      "<PrefetchDataset shapes: (((None, 384, 384, 3), (None, 3)), (None,)), types: ((tf.float32, tf.int64), tf.int64)>\n",
      "<PrefetchDataset shapes: (((None, 384, 384, 3), (None, 3)), (None,)), types: ((tf.float32, tf.int64), tf.int64)>\n",
      "Model: \"model\"\n",
      "__________________________________________________________________________________________________\n",
      "Layer (type)                    Output Shape         Param #     Connected to                     \n",
      "==================================================================================================\n",
      "input_3 (InputLayer)            [(None, 3)]          0                                            \n",
      "__________________________________________________________________________________________________\n",
      "dense_1 (Dense)                 (None, 3)            12          input_3[0][0]                    \n",
      "__________________________________________________________________________________________________\n",
      "dense_2 (Dense)                 (None, 512)          2048        dense_1[0][0]                    \n",
      "__________________________________________________________________________________________________\n",
      "batch_normalization (BatchNorma (None, 512)          2048        dense_2[0][0]                    \n",
      "__________________________________________________________________________________________________\n",
      "input_1 (InputLayer)            [(None, 384, 384, 3) 0                                            \n",
      "__________________________________________________________________________________________________\n",
      "dropout (Dropout)               (None, 512)          0           batch_normalization[0][0]        \n",
      "__________________________________________________________________________________________________\n",
      "efficientnet-b6 (Functional)    (None, 12, 12, 2304) 40960136    input_1[0][0]                    \n",
      "__________________________________________________________________________________________________\n",
      "dense_3 (Dense)                 (None, 512)          262656      dropout[0][0]                    \n",
      "__________________________________________________________________________________________________\n",
      "global_average_pooling2d (Globa (None, 2304)         0           efficientnet-b6[0][0]            \n",
      "__________________________________________________________________________________________________\n",
      "dense_4 (Dense)                 (None, 256)          131328      dense_3[0][0]                    \n",
      "__________________________________________________________________________________________________\n",
      "dense (Dense)                   (None, 256)          590080      global_average_pooling2d[0][0]   \n",
      "__________________________________________________________________________________________________\n",
      "batch_normalization_1 (BatchNor (None, 256)          1024        dense_4[0][0]                    \n",
      "__________________________________________________________________________________________________\n",
      "concatenate (Concatenate)       (None, 512)          0           dense[0][0]                      \n",
      "                                                                 batch_normalization_1[0][0]      \n",
      "__________________________________________________________________________________________________\n",
      "dense_5 (Dense)                 (None, 512)          262656      concatenate[0][0]                \n",
      "__________________________________________________________________________________________________\n",
      "dense_6 (Dense)                 (None, 1)            513         dense_5[0][0]                    \n",
      "==================================================================================================\n",
      "Total params: 42,212,501\n",
      "Trainable params: 41,986,533\n",
      "Non-trainable params: 225,968\n",
      "__________________________________________________________________________________________________\n",
      "None\n",
      "Epoch 1/13\n",
      "142/142 [==============================] - 294s 952ms/step - loss: 0.8954 - auc: 0.4880 - val_loss: 0.4703 - val_auc: 0.3955\n"
     ]
    },
    {
     "name": "stderr",
     "output_type": "stream",
     "text": [
      "2022-02-27 21:09:48.753825: W ./tensorflow/core/distributed_runtime/eager/destroy_tensor_handle_node.h:57] Ignoring an error encountered when deleting remote tensors handles: Invalid argument: Unable to find the relevant tensor remote_handle: Op ID: 636218, Output num: 0\n",
      "Additional GRPC error information from remote target /job:worker/replica:0/task:0:\n",
      ":{\"created\":\"@1645996188.753707437\",\"description\":\"Error received from peer ipv4:10.0.0.2:8470\",\"file\":\"external/com_github_grpc_grpc/src/core/lib/surface/call.cc\",\"file_line\":1056,\"grpc_message\":\"Unable to find the relevant tensor remote_handle: Op ID: 636218, Output num: 0\",\"grpc_status\":3}\n"
     ]
    },
    {
     "name": "stdout",
     "output_type": "stream",
     "text": [
      "Epoch 2/13\n",
      "142/142 [==============================] - 120s 845ms/step - loss: 0.2555 - auc: 0.6846 - val_loss: 0.0777 - val_auc: 0.8069\n",
      "Epoch 3/13\n",
      "142/142 [==============================] - 120s 843ms/step - loss: 0.1953 - auc: 0.8412 - val_loss: 0.0692 - val_auc: 0.8914\n",
      "Epoch 4/13\n",
      "142/142 [==============================] - 120s 843ms/step - loss: 0.1762 - auc: 0.8741 - val_loss: 0.0735 - val_auc: 0.8580\n",
      "Epoch 5/13\n",
      "142/142 [==============================] - 120s 844ms/step - loss: 0.1613 - auc: 0.8973 - val_loss: 0.0811 - val_auc: 0.7966\n",
      "Epoch 6/13\n",
      "142/142 [==============================] - 120s 843ms/step - loss: 0.1535 - auc: 0.9072 - val_loss: 0.0711 - val_auc: 0.8598\n",
      "Epoch 7/13\n",
      "142/142 [==============================] - 120s 844ms/step - loss: 0.1424 - auc: 0.9199 - val_loss: 0.0672 - val_auc: 0.8716\n",
      "Epoch 8/13\n",
      "142/142 [==============================] - 120s 845ms/step - loss: 0.1266 - auc: 0.9368 - val_loss: 0.0658 - val_auc: 0.8689\n",
      "Epoch 9/13\n",
      "142/142 [==============================] - 120s 844ms/step - loss: 0.1147 - auc: 0.9497 - val_loss: 0.0712 - val_auc: 0.8347\n",
      "Epoch 10/13\n",
      "142/142 [==============================] - 120s 843ms/step - loss: 0.1029 - auc: 0.9615 - val_loss: 0.0778 - val_auc: 0.8125\n",
      "Epoch 11/13\n",
      "142/142 [==============================] - 120s 842ms/step - loss: 0.0948 - auc: 0.9675 - val_loss: 0.0795 - val_auc: 0.8140\n",
      "Epoch 12/13\n",
      "142/142 [==============================] - 120s 842ms/step - loss: 0.0829 - auc: 0.9758 - val_loss: 0.0749 - val_auc: 0.8335\n",
      "Epoch 13/13\n",
      "142/142 [==============================] - 120s 842ms/step - loss: 0.0748 - auc: 0.9814 - val_loss: 0.0770 - val_auc: 0.8369\n",
      "Predicting OOF with TTA...\n",
      "69/69 [==============================] - 98s 1s/step\n"
     ]
    },
    {
     "name": "stderr",
     "output_type": "stream",
     "text": [
      "2022-02-27 21:36:08.869770: W ./tensorflow/core/distributed_runtime/eager/destroy_tensor_handle_node.h:57] Ignoring an error encountered when deleting remote tensors handles: Invalid argument: Unable to find the relevant tensor remote_handle: Op ID: 723250, Output num: 1\n",
      "Additional GRPC error information from remote target /job:worker/replica:0/task:0:\n",
      ":{\"created\":\"@1645997768.869453782\",\"description\":\"Error received from peer ipv4:10.0.0.2:8470\",\"file\":\"external/com_github_grpc_grpc/src/core/lib/surface/call.cc\",\"file_line\":1056,\"grpc_message\":\"Unable to find the relevant tensor remote_handle: Op ID: 723250, Output num: 1\",\"grpc_status\":3}\n"
     ]
    },
    {
     "name": "stdout",
     "output_type": "stream",
     "text": [
      "#### FOLD 4 OOF AUC without TTA = 0.891, with TTA = 0.917\n"
     ]
    },
    {
     "data": {
      "image/png": "[encoded data removed]",
      "text/plain": [
       "<Figure size 1080x360 with 2 Axes>"
      ]
     },
     "metadata": {
      "needs_background": "light"
     },
     "output_type": "display_data"
    },
    {
     "name": "stdout",
     "output_type": "stream",
     "text": [
      "#########################\n",
      "#### FOLD 5\n"
     ]
    },
    {
     "name": "stderr",
     "output_type": "stream",
     "text": [
      "2022-02-27 21:36:29.736739: I tensorflow/core/platform/cloud/google_auth_provider.cc:180] Attempting an empty bearer token since no token was retrieved from files, and GCE metadata check was skipped.\n",
      "2022-02-27 21:36:29.809044: I tensorflow/core/platform/cloud/google_auth_provider.cc:180] Attempting an empty bearer token since no token was retrieved from files, and GCE metadata check was skipped.\n",
      "2022-02-27 21:36:29.876639: I tensorflow/core/platform/cloud/google_auth_provider.cc:180] Attempting an empty bearer token since no token was retrieved from files, and GCE metadata check was skipped.\n",
      "2022-02-27 21:36:29.940427: I tensorflow/core/platform/cloud/google_auth_provider.cc:180] Attempting an empty bearer token since no token was retrieved from files, and GCE metadata check was skipped.\n",
      "2022-02-27 21:36:30.007643: I tensorflow/core/platform/cloud/google_auth_provider.cc:180] Attempting an empty bearer token since no token was retrieved from files, and GCE metadata check was skipped.\n",
      "2022-02-27 21:36:30.098059: I tensorflow/core/platform/cloud/google_auth_provider.cc:180] Attempting an empty bearer token since no token was retrieved from files, and GCE metadata check was skipped.\n",
      "2022-02-27 21:36:30.164330: I tensorflow/core/platform/cloud/google_auth_provider.cc:180] Attempting an empty bearer token since no token was retrieved from files, and GCE metadata check was skipped.\n",
      "2022-02-27 21:36:30.234219: I tensorflow/core/platform/cloud/google_auth_provider.cc:180] Attempting an empty bearer token since no token was retrieved from files, and GCE metadata check was skipped.\n",
      "2022-02-27 21:36:30.310286: I tensorflow/core/platform/cloud/google_auth_provider.cc:180] Attempting an empty bearer token since no token was retrieved from files, and GCE metadata check was skipped.\n",
      "2022-02-27 21:36:30.378063: I tensorflow/core/platform/cloud/google_auth_provider.cc:180] Attempting an empty bearer token since no token was retrieved from files, and GCE metadata check was skipped.\n",
      "2022-02-27 21:36:30.447436: I tensorflow/core/platform/cloud/google_auth_provider.cc:180] Attempting an empty bearer token since no token was retrieved from files, and GCE metadata check was skipped.\n",
      "2022-02-27 21:36:30.515059: I tensorflow/core/platform/cloud/google_auth_provider.cc:180] Attempting an empty bearer token since no token was retrieved from files, and GCE metadata check was skipped.\n",
      "2022-02-27 21:36:30.583538: I tensorflow/core/platform/cloud/google_auth_provider.cc:180] Attempting an empty bearer token since no token was retrieved from files, and GCE metadata check was skipped.\n",
      "2022-02-27 21:36:30.652789: I tensorflow/core/platform/cloud/google_auth_provider.cc:180] Attempting an empty bearer token since no token was retrieved from files, and GCE metadata check was skipped.\n",
      "2022-02-27 21:36:30.719784: I tensorflow/core/platform/cloud/google_auth_provider.cc:180] Attempting an empty bearer token since no token was retrieved from files, and GCE metadata check was skipped.\n",
      "2022-02-27 21:36:30.790958: I tensorflow/core/platform/cloud/google_auth_provider.cc:180] Attempting an empty bearer token since no token was retrieved from files, and GCE metadata check was skipped.\n",
      "2022-02-27 21:36:30.890323: I tensorflow/core/platform/cloud/google_auth_provider.cc:180] Attempting an empty bearer token since no token was retrieved from files, and GCE metadata check was skipped.\n",
      "2022-02-27 21:36:30.960113: I tensorflow/core/platform/cloud/google_auth_provider.cc:180] Attempting an empty bearer token since no token was retrieved from files, and GCE metadata check was skipped.\n",
      "2022-02-27 21:36:31.029952: I tensorflow/core/platform/cloud/google_auth_provider.cc:180] Attempting an empty bearer token since no token was retrieved from files, and GCE metadata check was skipped.\n",
      "2022-02-27 21:36:31.149638: I tensorflow/core/platform/cloud/google_auth_provider.cc:180] Attempting an empty bearer token since no token was retrieved from files, and GCE metadata check was skipped.\n",
      "2022-02-27 21:36:31.218507: I tensorflow/core/platform/cloud/google_auth_provider.cc:180] Attempting an empty bearer token since no token was retrieved from files, and GCE metadata check was skipped.\n",
      "2022-02-27 21:36:31.284137: I tensorflow/core/platform/cloud/google_auth_provider.cc:180] Attempting an empty bearer token since no token was retrieved from files, and GCE metadata check was skipped.\n",
      "2022-02-27 21:36:31.351077: I tensorflow/core/platform/cloud/google_auth_provider.cc:180] Attempting an empty bearer token since no token was retrieved from files, and GCE metadata check was skipped.\n",
      "2022-02-27 21:36:31.422565: I tensorflow/core/platform/cloud/google_auth_provider.cc:180] Attempting an empty bearer token since no token was retrieved from files, and GCE metadata check was skipped.\n"
     ]
    },
    {
     "name": "stdout",
     "output_type": "stream",
     "text": [
      "#### Using 2018+2017 external data\n",
      "#########################\n"
     ]
    },
    {
     "name": "stderr",
     "output_type": "stream",
     "text": [
      "2022-02-27 21:36:31.510802: I tensorflow/core/platform/cloud/google_auth_provider.cc:180] Attempting an empty bearer token since no token was retrieved from files, and GCE metadata check was skipped.\n",
      "2022-02-27 21:36:31.576756: I tensorflow/core/platform/cloud/google_auth_provider.cc:180] Attempting an empty bearer token since no token was retrieved from files, and GCE metadata check was skipped.\n",
      "2022-02-27 21:36:31.648298: I tensorflow/core/platform/cloud/google_auth_provider.cc:180] Attempting an empty bearer token since no token was retrieved from files, and GCE metadata check was skipped.\n",
      "2022-02-27 21:36:31.717992: I tensorflow/core/platform/cloud/google_auth_provider.cc:180] Attempting an empty bearer token since no token was retrieved from files, and GCE metadata check was skipped.\n"
     ]
    },
    {
     "name": "stdout",
     "output_type": "stream",
     "text": [
      "Training...\n",
      "<PrefetchDataset shapes: (((None, 384, 384, 3), (None, 3)), (None,)), types: ((tf.float32, tf.int64), tf.int64)>\n",
      "<PrefetchDataset shapes: (((None, 384, 384, 3), (None, 3)), (None,)), types: ((tf.float32, tf.int64), tf.int64)>\n",
      "Model: \"model\"\n",
      "__________________________________________________________________________________________________\n",
      "Layer (type)                    Output Shape         Param #     Connected to                     \n",
      "==================================================================================================\n",
      "input_3 (InputLayer)            [(None, 3)]          0                                            \n",
      "__________________________________________________________________________________________________\n",
      "dense_1 (Dense)                 (None, 3)            12          input_3[0][0]                    \n",
      "__________________________________________________________________________________________________\n",
      "dense_2 (Dense)                 (None, 512)          2048        dense_1[0][0]                    \n",
      "__________________________________________________________________________________________________\n",
      "batch_normalization (BatchNorma (None, 512)          2048        dense_2[0][0]                    \n",
      "__________________________________________________________________________________________________\n",
      "input_1 (InputLayer)            [(None, 384, 384, 3) 0                                            \n",
      "__________________________________________________________________________________________________\n",
      "dropout (Dropout)               (None, 512)          0           batch_normalization[0][0]        \n",
      "__________________________________________________________________________________________________\n",
      "efficientnet-b6 (Functional)    (None, 12, 12, 2304) 40960136    input_1[0][0]                    \n",
      "__________________________________________________________________________________________________\n",
      "dense_3 (Dense)                 (None, 512)          262656      dropout[0][0]                    \n",
      "__________________________________________________________________________________________________\n",
      "global_average_pooling2d (Globa (None, 2304)         0           efficientnet-b6[0][0]            \n",
      "__________________________________________________________________________________________________\n",
      "dense_4 (Dense)                 (None, 256)          131328      dense_3[0][0]                    \n",
      "__________________________________________________________________________________________________\n",
      "dense (Dense)                   (None, 256)          590080      global_average_pooling2d[0][0]   \n",
      "__________________________________________________________________________________________________\n",
      "batch_normalization_1 (BatchNor (None, 256)          1024        dense_4[0][0]                    \n",
      "__________________________________________________________________________________________________\n",
      "concatenate (Concatenate)       (None, 512)          0           dense[0][0]                      \n",
      "                                                                 batch_normalization_1[0][0]      \n",
      "__________________________________________________________________________________________________\n",
      "dense_5 (Dense)                 (None, 512)          262656      concatenate[0][0]                \n",
      "__________________________________________________________________________________________________\n",
      "dense_6 (Dense)                 (None, 1)            513         dense_5[0][0]                    \n",
      "==================================================================================================\n",
      "Total params: 42,212,501\n",
      "Trainable params: 41,986,533\n",
      "Non-trainable params: 225,968\n",
      "__________________________________________________________________________________________________\n",
      "None\n",
      "Epoch 1/13\n",
      "142/142 [==============================] - 296s 941ms/step - loss: 0.6517 - auc: 0.6060 - val_loss: 0.4037 - val_auc: 0.3787\n"
     ]
    },
    {
     "name": "stderr",
     "output_type": "stream",
     "text": [
      "2022-02-27 21:41:58.258498: W ./tensorflow/core/distributed_runtime/eager/destroy_tensor_handle_node.h:57] Ignoring an error encountered when deleting remote tensors handles: Invalid argument: Unable to find the relevant tensor remote_handle: Op ID: 828549, Output num: 1\n",
      "Additional GRPC error information from remote target /job:worker/replica:0/task:0:\n",
      ":{\"created\":\"@1645998118.257959496\",\"description\":\"Error received from peer ipv4:10.0.0.2:8470\",\"file\":\"external/com_github_grpc_grpc/src/core/lib/surface/call.cc\",\"file_line\":1056,\"grpc_message\":\"Unable to find the relevant tensor remote_handle: Op ID: 828549, Output num: 1\",\"grpc_status\":3}\n"
     ]
    },
    {
     "name": "stdout",
     "output_type": "stream",
     "text": [
      "Epoch 2/13\n",
      "142/142 [==============================] - 120s 845ms/step - loss: 0.2309 - auc: 0.6943 - val_loss: 0.0774 - val_auc: 0.7917\n",
      "Epoch 3/13\n",
      "142/142 [==============================] - 120s 846ms/step - loss: 0.1893 - auc: 0.8454 - val_loss: 0.0739 - val_auc: 0.8501\n",
      "Epoch 4/13\n",
      "142/142 [==============================] - 120s 845ms/step - loss: 0.1666 - auc: 0.8838 - val_loss: 0.0719 - val_auc: 0.8650\n",
      "Epoch 5/13\n",
      "142/142 [==============================] - 120s 846ms/step - loss: 0.1558 - auc: 0.8999 - val_loss: 0.0742 - val_auc: 0.8458\n",
      "Epoch 6/13\n",
      "142/142 [==============================] - 120s 845ms/step - loss: 0.1402 - auc: 0.9192 - val_loss: 0.0680 - val_auc: 0.8625\n",
      "Epoch 7/13\n",
      "142/142 [==============================] - 120s 846ms/step - loss: 0.1317 - auc: 0.9342 - val_loss: 0.0698 - val_auc: 0.8591\n",
      "Epoch 8/13\n",
      "142/142 [==============================] - 120s 848ms/step - loss: 0.1218 - auc: 0.9431 - val_loss: 0.0696 - val_auc: 0.8690\n",
      "Epoch 9/13\n",
      "142/142 [==============================] - 120s 846ms/step - loss: 0.1089 - auc: 0.9537 - val_loss: 0.0692 - val_auc: 0.8610\n",
      "Epoch 10/13\n",
      "142/142 [==============================] - 120s 844ms/step - loss: 0.0982 - auc: 0.9621 - val_loss: 0.0745 - val_auc: 0.8416\n",
      "Epoch 11/13\n",
      "142/142 [==============================] - 120s 845ms/step - loss: 0.0863 - auc: 0.9702 - val_loss: 0.0672 - val_auc: 0.8551\n",
      "Epoch 12/13\n",
      "142/142 [==============================] - 120s 846ms/step - loss: 0.0793 - auc: 0.9772 - val_loss: 0.0728 - val_auc: 0.8398\n",
      "Epoch 13/13\n",
      "142/142 [==============================] - 120s 845ms/step - loss: 0.0698 - auc: 0.9840 - val_loss: 0.0762 - val_auc: 0.8384\n",
      "Predicting OOF with TTA...\n",
      "70/70 [==============================] - 100s 1s/step\n"
     ]
    },
    {
     "name": "stderr",
     "output_type": "stream",
     "text": [
      "2022-02-27 22:08:26.715974: W ./tensorflow/core/distributed_runtime/eager/destroy_tensor_handle_node.h:57] Ignoring an error encountered when deleting remote tensors handles: Invalid argument: Unable to find the relevant tensor remote_handle: Op ID: 921363, Output num: 2\n",
      "Additional GRPC error information from remote target /job:worker/replica:0/task:0:\n",
      ":{\"created\":\"@1645999706.715851111\",\"description\":\"Error received from peer ipv4:10.0.0.2:8470\",\"file\":\"external/com_github_grpc_grpc/src/core/lib/surface/call.cc\",\"file_line\":1056,\"grpc_message\":\"Unable to find the relevant tensor remote_handle: Op ID: 921363, Output num: 2\",\"grpc_status\":3}\n"
     ]
    },
    {
     "name": "stdout",
     "output_type": "stream",
     "text": [
      "#### FOLD 5 OOF AUC without TTA = 0.869, with TTA = 0.921\n"
     ]
    },
    {
     "data": {
      "image/png": "[encoded data removed]",
      "text/plain": [
       "<Figure size 1080x360 with 2 Axes>"
      ]
     },
     "metadata": {
      "needs_background": "light"
     },
     "output_type": "display_data"
    },
    {
     "name": "stdout",
     "output_type": "stream",
     "text": [
      "Time needed for training: 9686.659433841705\n"
     ]
    }
   ],
   "source": [
    "from tensorflow.keras.models import Sequential\n",
    "start = time.time()\n",
    "# USE VERBOSE=0 for silent, VERBOSE=1 for interactive, VERBOSE=2 for commit\n",
    "VERBOSE = 1\n",
    "DISPLAY_PLOT = True\n",
    "\n",
    "skf = KFold(n_splits=FOLDS,shuffle=True,random_state=SEED)\n",
    "oof_pred = []; oof_tar = []; oof_val = []; oof_names = []; oof_folds = [] \n",
    "preds = np.zeros((count_data_items(files_test),1))\n",
    "\n",
    "\n",
    "\n",
    "for fold,(idxT,idxV) in enumerate(skf.split(np.arange(15))):\n",
    "    \n",
    "    # DISPLAY FOLD INFO\n",
    "    if DEVICE=='TPU':\n",
    "        if tpu: tf.tpu.experimental.initialize_tpu_system(tpu)\n",
    "    print('#'*25); print('#### FOLD',fold+1)\n",
    "    #print('#### Image Size %i with EfficientNet B%i and batch_size %i'%\n",
    "    #      (IMG_SIZES[fold],EFF_NETS[fold],BATCH_SIZES[fold]*REPLICAS))\n",
    "    \n",
    "    # CREATE TRAIN AND VALIDATION SUBSETS\n",
    "    files_train = tf.io.gfile.glob([GCS_PATH[fold] + '/train%.2i*.tfrec'%x for x in idxT])\n",
    "    if INC2019[fold]:\n",
    "        files_train += tf.io.gfile.glob([GCS_PATH2[fold] + '/train%.2i*.tfrec'%x for x in idxT*2+1])\n",
    "        print('#### Using 2019 external data')\n",
    "    if INC2018[fold]:\n",
    "        files_train += tf.io.gfile.glob([GCS_PATH2[fold] + '/train%.2i*.tfrec'%x for x in idxT*2])\n",
    "        print('#### Using 2018+2017 external data')\n",
    "    np.random.shuffle(files_train); print('#'*25)\n",
    "    files_valid = tf.io.gfile.glob([GCS_PATH[fold] + '/train%.2i*.tfrec'%x for x in idxV])\n",
    "    files_test = tf.io.gfile.glob(GCS_PATH[fold] + '/test*.tfrec')\n",
    "  \n",
    "    # BUILD MODEL\n",
    "    K.clear_session()\n",
    "    with strategy.scope():\n",
    "        #model_meta = build_meta_data_model()\n",
    "        #model_eff = build_InceptionV3(input_tensor=Input(shape=(IMG_SIZES[fold], IMG_SIZES[fold], 3)))\n",
    "        #model_eff = build_model_efn(dim=IMG_SIZES[fold],ef=EFF_NETS[fold])\n",
    "        model_merged = FUSEDModel(dim=IMG_SIZES[fold])\n",
    "        #model_eff = build_InceptionV3(input_tensor=Input(shape=(IMG_SIZES[fold], IMG_SIZES[fold], 3)))\n",
    "        #model3 = build_Xception(input_tensor=Input(shape=(IMG_SIZES[fold], IMG_SIZES[fold], 3)))\n",
    "        #model4 = build_DenseNet201(input_tensor=Input(shape=(IMG_SIZES[fold], IMG_SIZES[fold], 3)))\n",
    "        \n",
    "    #SAVE BEST MODEL EACH FOLD\n",
    "    sv = tf.keras.callbacks.ModelCheckpoint(\n",
    "        'folds_meta-%i.h5'%fold, monitor='val_loss', verbose=0, save_best_only=True,\n",
    "        save_weights_only=True, mode='min', save_freq='epoch')\n",
    "   \n",
    "    # TRAIN\n",
    "    print('Training...')\n",
    "    \n",
    "    files_for_train = get_dataset_target(files_train, augment=True, shuffle=False, repeat=True,\n",
    "                dim=IMG_SIZES[fold], batch_size = BATCH_SIZES[fold])\n",
    "    files_for_validation = get_dataset_target(files_valid,augment=False,shuffle=False,\n",
    "                repeat=False,dim=IMG_SIZES[fold])\n",
    "    \n",
    "    print(files_for_train)\n",
    "    print(files_for_validation)\n",
    "    \n",
    "   \n",
    "    print(model_merged.summary())\n",
    "    # train fushion model \n",
    "    history3 = model_merged.fit(\n",
    "        files_for_train, \n",
    "        epochs=EPOCHS[fold],\n",
    "        callbacks = [sv,get_lr_callback(BATCH_SIZES[fold])], \n",
    "        steps_per_epoch=count_data_items(files_train)/BATCH_SIZES[fold]//REPLICAS,\n",
    "        validation_data=files_for_validation,\n",
    "        verbose=VERBOSE\n",
    "    )\n",
    "    \n",
    "    model_merged.load_weights('folds_meta-%i.h5'%fold)\n",
    "    \n",
    "    # PREDICT OOF USING TTA\n",
    "    print('Predicting OOF with TTA...')\n",
    "    ds_valid = get_dataset_target(files_valid,labeled=False,return_image_names=False,augment=True,\n",
    "            repeat=True,shuffle=False,dim=IMG_SIZES[fold],batch_size=BATCH_SIZES[fold]*4)\n",
    "    ct_valid = count_data_items(files_valid); STEPS = TTA * ct_valid/BATCH_SIZES[fold]/4/REPLICAS\n",
    "    pred = model_merged.predict(ds_valid,steps=STEPS,verbose=VERBOSE)[:TTA*ct_valid,] \n",
    "    oof_pred.append( np.mean(pred.reshape((ct_valid,TTA),order='F'),axis=1) )                 \n",
    "    #oof_pred.append(model.predict(get_dataset(files_valid,dim=IMG_SIZES[fold]),verbose=1))\n",
    "    \n",
    "    # GET OOF TARGETS AND NAMES\n",
    "    ds_valid = get_dataset_target(files_valid, augment=False, repeat=False, dim=IMG_SIZES[fold],\n",
    "            labeled=True, return_image_names=True)\n",
    "    oof_tar.append( np.array([target.numpy() for img, target in iter(ds_valid.unbatch())]) )\n",
    "    oof_folds.append( np.ones_like(oof_tar[-1],dtype='int8')*fold )\n",
    "    ds = get_dataset_target(files_valid, augment=False, repeat=False, dim=IMG_SIZES[fold],\n",
    "                labeled=False, return_image_names=True)\n",
    "    oof_names.append( np.array([img_name.numpy().decode(\"utf-8\") for img, img_name in iter(ds.unbatch())]))\n",
    "    \n",
    "   \n",
    "    \n",
    "    # REPORT RESULTS\n",
    "    auc = roc_auc_score(oof_tar[-1],oof_pred[-1])\n",
    "    oof_val.append(np.max( history3.history['val_auc'] ))\n",
    "    print('#### FOLD %i OOF AUC without TTA = %.3f, with TTA = %.3f'%(fold+1,oof_val[-1],auc))\n",
    "    \n",
    "    \n",
    "    if DISPLAY_PLOT:\n",
    "        plt.figure(figsize=(15,5))\n",
    "        plt.plot(np.arange(EPOCHS[fold]),history3.history['auc'],'-o',label='Train AUC',color='#ff7f0e')\n",
    "        plt.plot(np.arange(EPOCHS[fold]),history3.history['val_auc'],'-o',label='Val AUC',color='#1f77b4')\n",
    "        x = np.argmax( history3.history['val_auc'] ); y = np.max( history3.history['val_auc'] )\n",
    "        xdist = plt.xlim()[1] - plt.xlim()[0]; ydist = plt.ylim()[1] - plt.ylim()[0]\n",
    "        plt.scatter(x,y,s=200,color='#1f77b4'); plt.text(x-0.03*xdist,y-0.13*ydist,'max auc\\n%.2f'%y,size=14)\n",
    "        plt.ylabel('AUC',size=14); plt.xlabel('Epoch',size=14)\n",
    "        plt.legend(loc=2)\n",
    "        plt2 = plt.gca().twinx()\n",
    "        plt2.plot(np.arange(EPOCHS[fold]),history3.history['loss'],'-o',label='Train Loss',color='#2ca02c')\n",
    "        plt2.plot(np.arange(EPOCHS[fold]),history3.history['val_loss'],'-o',label='Val Loss',color='#d62728')\n",
    "        x = np.argmin( history3.history['val_loss'] ); y = np.min( history3.history['val_loss'] )\n",
    "        ydist = plt.ylim()[1] - plt.ylim()[0]\n",
    "        plt.scatter(x,y,s=200,color='#d62728'); plt.text(x-0.03*xdist,y+0.05*ydist,'min loss',size=14)\n",
    "        plt.ylabel('Loss',size=14)\n",
    "        plt.title('FOLD %i - Image Size %i, EfficientNet B%i, inc2019=%i, inc2018=%i'%\n",
    "                (fold+1,IMG_SIZES[fold],EFF_NETS[fold],INC2019[fold],INC2018[fold]),size=18)\n",
    "        plt.legend(loc=3)\n",
    "        plt.show()  \n",
    " \n",
    "   \n",
    "end = time.time()\n",
    "print(\"Time needed for training:\",end - start)"
   ]
  },
  {
   "cell_type": "markdown",
   "id": "6383e733",
   "metadata": {
    "papermill": {
     "duration": 3.054359,
     "end_time": "2022-02-27T22:08:50.010669",
     "exception": false,
     "start_time": "2022-02-27T22:08:46.956310",
     "status": "completed"
    },
    "tags": []
   },
   "source": [
    "## Calculate OOF AUC\n",
    "The OOF (out of fold) "
   ]
  },
  {
   "cell_type": "markdown",
   "id": "86d7ae7f",
   "metadata": {
    "papermill": {
     "duration": 3.035829,
     "end_time": "2022-02-27T22:08:56.153695",
     "exception": false,
     "start_time": "2022-02-27T22:08:53.117866",
     "status": "completed"
    },
    "tags": []
   },
   "source": [
    "Validation dataset average for K folds"
   ]
  },
  {
   "cell_type": "code",
   "execution_count": 16,
   "id": "61fcbf4e",
   "metadata": {
    "execution": {
     "iopub.execute_input": "2022-02-27T22:09:04.376332Z",
     "iopub.status.busy": "2022-02-27T22:09:04.375363Z",
     "iopub.status.idle": "2022-02-27T22:09:04.591394Z",
     "shell.execute_reply": "2022-02-27T22:09:04.590765Z"
    },
    "papermill": {
     "duration": 4.545974,
     "end_time": "2022-02-27T22:09:04.591653",
     "exception": false,
     "start_time": "2022-02-27T22:09:00.045679",
     "status": "completed"
    },
    "tags": []
   },
   "outputs": [
    {
     "name": "stdout",
     "output_type": "stream",
     "text": [
      "Val Late joint fushion average Overall OOF AUC with TTA = 0.906\n",
      "AVERAGED\n",
      "              precision    recall  f1-score   support\n",
      "\n",
      "      benign       0.98      1.00      0.99     32111\n",
      "    melanoma       0.51      0.09      0.16       581\n",
      "\n",
      "    accuracy                           0.98     32692\n",
      "   macro avg       0.75      0.55      0.57     32692\n",
      "weighted avg       0.98      0.98      0.98     32692\n",
      "\n"
     ]
    }
   ],
   "source": [
    "from sklearn.metrics import classification_report\n",
    "# COMPUTE OVERALL OOF AUC\n",
    "oof = np.concatenate(oof_pred); true = np.concatenate(oof_tar);\n",
    "names = np.concatenate(oof_names); folds = np.concatenate(oof_folds)\n",
    "auc_avg = roc_auc_score(true,oof)\n",
    "\n",
    "print('Val Late joint fushion average Overall OOF AUC with TTA = %.3f'%auc_avg)\n",
    "preds= []\n",
    "for pred in oof:\n",
    "    if pred > 0.5:\n",
    "        preds.append(1)\n",
    "    else:\n",
    "        preds.append(0)\n",
    "target_names = ['benign', 'melanoma']\n",
    "print(\"AVERAGED\")\n",
    "print(classification_report(true, preds, target_names=target_names))"
   ]
  }
 ],
 "metadata": {
  "kernelspec": {
   "display_name": "Python 3",
   "language": "python",
   "name": "python3"
  },
  "language_info": {
   "codemirror_mode": {
    "name": "ipython",
    "version": 3
   },
   "file_extension": ".py",
   "mimetype": "text/x-python",
   "name": "python",
   "nbconvert_exporter": "python",
   "pygments_lexer": "ipython3",
   "version": "3.7.10"
  },
  "papermill": {
   "default_parameters": {},
   "duration": 9755.848959,
   "end_time": "2022-02-27T22:09:12.165279",
   "environment_variables": {},
   "exception": null,
   "input_path": "__notebook__.ipynb",
   "output_path": "__notebook__.ipynb",
   "parameters": {},
   "start_time": "2022-02-27T19:26:36.316320",
   "version": "2.3.3"
  }
 },
 "nbformat": 4,
 "nbformat_minor": 5
}
